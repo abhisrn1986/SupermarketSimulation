{
 "cells": [
  {
   "cell_type": "code",
   "execution_count": 1,
   "metadata": {},
   "outputs": [],
   "source": [
    "import pandas as pd\n",
    "import numpy as np"
   ]
  },
  {
   "cell_type": "code",
   "execution_count": 2,
   "metadata": {},
   "outputs": [],
   "source": [
    "tran_mat=pd.read_csv(\"Transition_matrix.csv\")"
   ]
  },
  {
   "cell_type": "code",
   "execution_count": 7,
   "metadata": {},
   "outputs": [],
   "source": [
    "tran_mat=tran_mat.set_index(\"before\")"
   ]
  },
  {
   "cell_type": "code",
   "execution_count": 30,
   "metadata": {},
   "outputs": [],
   "source": [
    "class Customer:\n",
    "    def __init__(self,id,location,transition_probs):\n",
    "        self.id=id\n",
    "        self.location=\"entrance\"\n",
    "        self.transition_probs=transition_probs\n",
    "        #self.budget=budget\n",
    "\n",
    "    def __repr__(self):\n",
    "        return f'<Customer {self.id} in {self.location}>'\n",
    "\n",
    "    def is_active(self):\n",
    "        \"\"\"Returns True if the customer has not reached the checkout yet.\"\"\"\n",
    "        if self.location!=\"checkout\":\n",
    "            return True\n",
    "        else:\n",
    "            return False\n",
    "    \n",
    "    def next_state(self):\n",
    "        self.location = np.random.choice(self.transition_probs.columns.values, p=self.transition_probs.loc[self.location])\n"
   ]
  },
  {
   "cell_type": "code",
   "execution_count": 31,
   "metadata": {},
   "outputs": [],
   "source": [
    "customer_1=Customer(2,\"entrance\",tran_mat)"
   ]
  },
  {
   "cell_type": "code",
   "execution_count": 32,
   "metadata": {},
   "outputs": [
    {
     "name": "stdout",
     "output_type": "stream",
     "text": [
      "dairy\n",
      "spices\n",
      "spices\n",
      "spices\n",
      "spices\n",
      "dairy\n",
      "fruit\n",
      "fruit\n",
      "fruit\n",
      "checkout\n"
     ]
    }
   ],
   "source": [
    "while customer_1. is_active():\n",
    "    customer_1.next_state()\n",
    "    print(customer_1.location)"
   ]
  },
  {
   "cell_type": "code",
   "execution_count": 33,
   "metadata": {},
   "outputs": [],
   "source": [
    "class Supermarket:\n",
    "    \"\"\"manages multiple Customer instances that are currently in the market.\n",
    "    \"\"\"\n",
    "\n",
    "    def __init__(self):        \n",
    "        # a list of Customer objects\n",
    "        self.customers = []\n",
    "        self.minutes = 0\n",
    "        self.last_id = 0\n",
    "        self.list = pd.DataFrame(columns=['timestamp', 'customer_no','location'])\n",
    "\n",
    "\n",
    "    def __repr__(self):\n",
    "        return ''\n",
    "\n",
    "    def get_time(self):\n",
    "        \"\"\"current time in HH:MM format,\n",
    "        \"\"\"\n",
    "        return None\n",
    "\n",
    "    def print_customers(self):\n",
    "        \"\"\"print all customers with the current time and id in CSV format.\n",
    "        \"\"\"\n",
    "        return None\n",
    "\n",
    "    def next_minute(self):\n",
    "        \"\"\"propagates all customers to the next state.\n",
    "        \"\"\"\n",
    "        return None\n",
    "    \n",
    "    def add_new_customers(self):\n",
    "        \"\"\"randomly creates new customers.\n",
    "        \"\"\"\n",
    "        return None\n",
    "\n",
    "    def remove_exitsting_customers(self):\n",
    "        \"\"\"removes every customer that is not active any more.\n",
    "        \"\"\"\n",
    "        return None\n"
   ]
  },
  {
   "cell_type": "code",
   "execution_count": null,
   "metadata": {},
   "outputs": [],
   "source": []
  }
 ],
 "metadata": {
  "interpreter": {
   "hash": "f1cde6a754b3ba4c6616aaf8e76c7ab8fad7ea2d3e68dfb07703ef36b7f54395"
  },
  "kernelspec": {
   "display_name": "Python 3.8.8 ('base')",
   "language": "python",
   "name": "python3"
  },
  "language_info": {
   "codemirror_mode": {
    "name": "ipython",
    "version": 3
   },
   "file_extension": ".py",
   "mimetype": "text/x-python",
   "name": "python",
   "nbconvert_exporter": "python",
   "pygments_lexer": "ipython3",
   "version": "3.8.8"
  },
  "orig_nbformat": 4
 },
 "nbformat": 4,
 "nbformat_minor": 2
}
