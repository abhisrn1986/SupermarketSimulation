{
 "cells": [
  {
   "cell_type": "code",
   "execution_count": 30,
   "metadata": {},
   "outputs": [],
   "source": [
    "import pandas as pd\n",
    "import csv\n",
    "import pandas as pd\n",
    "import matplotlib.pyplot as plt\n",
    "import numpy as np\n",
    "import seaborn as sns\n",
    "import os\n",
    "import datetime\n",
    "import matplotlib.pyplot as plt\n",
    "%matplotlib inline\n",
    "sns.set() \n",
    "sns.set_style(\"darkgrid\")\n",
    "from faker import Faker \n"
   ]
  },
  {
   "cell_type": "code",
   "execution_count": 31,
   "metadata": {},
   "outputs": [],
   "source": [
    "#Transition matrix\n",
    "Trmatrix=pd.read_csv('/Users/ozlemalbayrak/Downloads/SPICED/EXERCISES/Markov_Simulation/MarkovSimulation/Transition_matrix.csv')"
   ]
  },
  {
   "cell_type": "code",
   "execution_count": null,
   "metadata": {},
   "outputs": [],
   "source": [
    "Trmatrix=Trmatrix.set_index(\"before\")\n"
   ]
  },
  {
   "cell_type": "code",
   "execution_count": 60,
   "metadata": {},
   "outputs": [
    {
     "data": {
      "text/html": [
       "<div>\n",
       "<style scoped>\n",
       "    .dataframe tbody tr th:only-of-type {\n",
       "        vertical-align: middle;\n",
       "    }\n",
       "\n",
       "    .dataframe tbody tr th {\n",
       "        vertical-align: top;\n",
       "    }\n",
       "\n",
       "    .dataframe thead th {\n",
       "        text-align: right;\n",
       "    }\n",
       "</style>\n",
       "<table border=\"1\" class=\"dataframe\">\n",
       "  <thead>\n",
       "    <tr style=\"text-align: right;\">\n",
       "      <th></th>\n",
       "      <th>checkout</th>\n",
       "      <th>dairy</th>\n",
       "      <th>drinks</th>\n",
       "      <th>fruit</th>\n",
       "      <th>spices</th>\n",
       "    </tr>\n",
       "    <tr>\n",
       "      <th>before</th>\n",
       "      <th></th>\n",
       "      <th></th>\n",
       "      <th></th>\n",
       "      <th></th>\n",
       "      <th></th>\n",
       "    </tr>\n",
       "  </thead>\n",
       "  <tbody>\n",
       "    <tr>\n",
       "      <th>dairy</th>\n",
       "      <td>0.102678</td>\n",
       "      <td>0.736919</td>\n",
       "      <td>0.058737</td>\n",
       "      <td>0.050129</td>\n",
       "      <td>0.051536</td>\n",
       "    </tr>\n",
       "    <tr>\n",
       "      <th>drinks</th>\n",
       "      <td>0.215505</td>\n",
       "      <td>0.010899</td>\n",
       "      <td>0.598602</td>\n",
       "      <td>0.088012</td>\n",
       "      <td>0.086983</td>\n",
       "    </tr>\n",
       "    <tr>\n",
       "      <th>entrance</th>\n",
       "      <td>0.000000</td>\n",
       "      <td>0.287987</td>\n",
       "      <td>0.153296</td>\n",
       "      <td>0.377376</td>\n",
       "      <td>0.181340</td>\n",
       "    </tr>\n",
       "    <tr>\n",
       "      <th>fruit</th>\n",
       "      <td>0.201054</td>\n",
       "      <td>0.096081</td>\n",
       "      <td>0.055005</td>\n",
       "      <td>0.597025</td>\n",
       "      <td>0.050834</td>\n",
       "    </tr>\n",
       "    <tr>\n",
       "      <th>spices</th>\n",
       "      <td>0.149888</td>\n",
       "      <td>0.193214</td>\n",
       "      <td>0.163109</td>\n",
       "      <td>0.091590</td>\n",
       "      <td>0.402198</td>\n",
       "    </tr>\n",
       "  </tbody>\n",
       "</table>\n",
       "</div>"
      ],
      "text/plain": [
       "          checkout     dairy    drinks     fruit    spices\n",
       "before                                                    \n",
       "dairy     0.102678  0.736919  0.058737  0.050129  0.051536\n",
       "drinks    0.215505  0.010899  0.598602  0.088012  0.086983\n",
       "entrance  0.000000  0.287987  0.153296  0.377376  0.181340\n",
       "fruit     0.201054  0.096081  0.055005  0.597025  0.050834\n",
       "spices    0.149888  0.193214  0.163109  0.091590  0.402198"
      ]
     },
     "execution_count": 60,
     "metadata": {},
     "output_type": "execute_result"
    }
   ],
   "source": [
    "Trmatrix"
   ]
  },
  {
   "cell_type": "code",
   "execution_count": 32,
   "metadata": {},
   "outputs": [
    {
     "name": "stdout",
     "output_type": "stream",
     "text": [
      "Luchino Semitecolo\n",
      "Gioffre Argentero\n",
      "Dott. Marisa Corbo\n",
      "Gianpaolo Leblanc\n",
      "Gioele Interiano\n",
      "Caterina Ovadia-Manzoni\n",
      "Alina Anichini\n",
      "Giuliana Gelli-Foconi\n",
      "Gianni Roero\n",
      "Valentina Bergoglio\n"
     ]
    }
   ],
   "source": [
    "fake = Faker('it_IT')\n",
    "for _ in range(10):\n",
    "    print(fake.name())"
   ]
  },
  {
   "cell_type": "code",
   "execution_count": 73,
   "metadata": {},
   "outputs": [],
   "source": [
    "class Customer():\n",
    "      \n",
    "    \"\"\"\n",
    "    a single customer that moves through the supermarket\n",
    "    in a MCMC simulation\n",
    "    \"\"\"\n",
    "    \n",
    "    def __init__(self, cus_id, state, Trmatrix):\n",
    "        self.cus_id = cus_id\n",
    "        self.state ='entrance'\n",
    "        self.Trmatrix=Trmatrix\n",
    "   \n",
    "\n",
    "    def __repr__(self):\n",
    "        return f'<Customer {self.cus_id} in {self.state}>'\n",
    "        if self.state==\"checkout\":\n",
    "            return True\n",
    "        else:\n",
    "            False\n",
    "\n",
    "    \n",
    "\n",
    "\n",
    "    def next_state(self):\n",
    "        self.state = np.random.choice(self.Trmatrix.columns.values, p=self.Trmatrix.loc[self.state])\n",
    "\n",
    "    def is_active(self):\n",
    "        \"\"\"Returns True if the customer has not reached the checkout yet.\"\"\"\n",
    "\n",
    "\n",
    "\n"
   ]
  },
  {
   "cell_type": "code",
   "execution_count": 74,
   "metadata": {},
   "outputs": [],
   "source": [
    "cust1 = Customer(5, \"entrance\", Trmatrix)\n"
   ]
  },
  {
   "cell_type": "code",
   "execution_count": 75,
   "metadata": {},
   "outputs": [
    {
     "name": "stdout",
     "output_type": "stream",
     "text": [
      "5 entrance\n"
     ]
    }
   ],
   "source": [
    "print(cust1.cus_id, cust1.state)\n"
   ]
  },
  {
   "cell_type": "code",
   "execution_count": 77,
   "metadata": {},
   "outputs": [],
   "source": [
    "while cust1. is_active():\n",
    "    cust1.next_state()\n",
    "    print(cust1.state)"
   ]
  },
  {
   "cell_type": "code",
   "execution_count": 78,
   "metadata": {},
   "outputs": [
    {
     "name": "stdout",
     "output_type": "stream",
     "text": [
      "None\n"
     ]
    }
   ],
   "source": [
    "a=cust1.next_state()\n",
    "print(a)"
   ]
  },
  {
   "cell_type": "code",
   "execution_count": 79,
   "metadata": {},
   "outputs": [],
   "source": [
    "import numpy as np\n",
    "import pandas as pd\n",
    "\n",
    "\n",
    "class Supermarket:\n",
    "    \"\"\"manages multiple Customer instances that are currently in the market.\n",
    "    \"\"\"\n",
    "\n",
    "    def __init__(self):        \n",
    "        # a list of Customer objects\n",
    "        self.customers = []\n",
    "        self.minutes = 0\n",
    "        self.last_id = 0\n",
    "\n",
    "    def __repr__(self):\n",
    "        return ''\n",
    "\n",
    "    def get_time(self):\n",
    "        \"\"\"current time in HH:MM format,\n",
    "        \"\"\"\n",
    "        return None\n",
    "\n",
    "    def print_customers(self):\n",
    "        \"\"\"print all customers with the current time and id in CSV format.\n",
    "        \"\"\"\n",
    "        return None\n",
    "\n",
    "    def next_minute(self):\n",
    "        \"\"\"propagates all customers to the next state.\n",
    "        \"\"\"\n",
    "        return None\n",
    "    \n",
    "    def add_new_customers(self):\n",
    "        \"\"\"randomly creates new customers.\n",
    "        \"\"\"\n",
    "        return None\n",
    "\n",
    "    def remove_exitsting_customers(self):\n",
    "        \"\"\"removes every customer that is not active any more.\n",
    "        \"\"\"\n",
    "        return None"
   ]
  },
  {
   "cell_type": "code",
   "execution_count": null,
   "metadata": {},
   "outputs": [],
   "source": []
  }
 ],
 "metadata": {
  "interpreter": {
   "hash": "b3034d9db8565f47913294c42ee80bbf805d99c362aaa953afe6a6dc7e48e0bd"
  },
  "kernelspec": {
   "display_name": "Python 3.9.7 64-bit (conda)",
   "language": "python",
   "name": "python3"
  },
  "language_info": {
   "codemirror_mode": {
    "name": "ipython",
    "version": 3
   },
   "file_extension": ".py",
   "mimetype": "text/x-python",
   "name": "python",
   "nbconvert_exporter": "python",
   "pygments_lexer": "ipython3",
   "version": "3.9.7"
  },
  "orig_nbformat": 4
 },
 "nbformat": 4,
 "nbformat_minor": 2
}
