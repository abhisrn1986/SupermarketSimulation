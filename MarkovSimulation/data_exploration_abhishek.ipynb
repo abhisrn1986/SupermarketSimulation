{
 "cells": [
  {
   "cell_type": "code",
   "execution_count": 338,
   "metadata": {},
   "outputs": [],
   "source": [
    "import pandas as pd\n",
    "import numpy as np\n",
    "import matplotlib.pyplot as plt\n",
    "import seaborn as sns\n",
    "\n",
    "\n",
    "def add_missing_checkouts(df, checkout_label = 'checkout') :\n",
    "    add_rows = df.groupby('customer_no').filter(lambda x : all(x['location'] != 'checkout'))\n",
    "    add_rows['location'] = checkout_label\n",
    "    return pd.concat([df, add_rows], ignore_index=True)\n"
   ]
  },
  {
   "cell_type": "code",
   "execution_count": 343,
   "metadata": {},
   "outputs": [
    {
     "data": {
      "text/plain": [
       "7445"
      ]
     },
     "execution_count": 343,
     "metadata": {},
     "output_type": "execute_result"
    }
   ],
   "source": [
    "mon_df=pd.read_csv(\"monday.csv\",sep=\";\")\n",
    "tue_df=pd.read_csv(\"tuesday.csv\",sep=\";\")\n",
    "wed_df=pd.read_csv(\"wednesday.csv\",sep=\";\")\n",
    "thu_df=pd.read_csv(\"thursday.csv\",sep=\";\")\n",
    "fri_df=pd.read_csv(\"friday.csv\",sep=\";\")\n",
    "\n",
    "init_total_unique_customers = 0\n",
    "\n",
    "for df in [mon_df, tue_df, wed_df, thu_df, fri_df]:\n",
    "    init_total_unique_customers += len(df['customer_no'].unique())\n",
    "\n",
    "    \n",
    "init_total_unique_customers"
   ]
  },
  {
   "cell_type": "code",
   "execution_count": 345,
   "metadata": {},
   "outputs": [
    {
     "data": {
      "text/html": [
       "<div>\n",
       "<style scoped>\n",
       "    .dataframe tbody tr th:only-of-type {\n",
       "        vertical-align: middle;\n",
       "    }\n",
       "\n",
       "    .dataframe tbody tr th {\n",
       "        vertical-align: top;\n",
       "    }\n",
       "\n",
       "    .dataframe thead th {\n",
       "        text-align: right;\n",
       "    }\n",
       "</style>\n",
       "<table border=\"1\" class=\"dataframe\">\n",
       "  <thead>\n",
       "    <tr style=\"text-align: right;\">\n",
       "      <th></th>\n",
       "      <th>timestamp</th>\n",
       "      <th>customer_no</th>\n",
       "      <th>location</th>\n",
       "    </tr>\n",
       "  </thead>\n",
       "  <tbody>\n",
       "    <tr>\n",
       "      <th>0</th>\n",
       "      <td>2019-09-02 07:03:00</td>\n",
       "      <td>1</td>\n",
       "      <td>dairy</td>\n",
       "    </tr>\n",
       "    <tr>\n",
       "      <th>1</th>\n",
       "      <td>2019-09-02 07:03:00</td>\n",
       "      <td>2</td>\n",
       "      <td>dairy</td>\n",
       "    </tr>\n",
       "    <tr>\n",
       "      <th>2</th>\n",
       "      <td>2019-09-02 07:04:00</td>\n",
       "      <td>3</td>\n",
       "      <td>dairy</td>\n",
       "    </tr>\n",
       "    <tr>\n",
       "      <th>3</th>\n",
       "      <td>2019-09-02 07:04:00</td>\n",
       "      <td>4</td>\n",
       "      <td>dairy</td>\n",
       "    </tr>\n",
       "    <tr>\n",
       "      <th>4</th>\n",
       "      <td>2019-09-02 07:04:00</td>\n",
       "      <td>5</td>\n",
       "      <td>spices</td>\n",
       "    </tr>\n",
       "    <tr>\n",
       "      <th>...</th>\n",
       "      <td>...</td>\n",
       "      <td>...</td>\n",
       "      <td>...</td>\n",
       "    </tr>\n",
       "    <tr>\n",
       "      <th>24872</th>\n",
       "      <td>2019-09-06 21:50:00</td>\n",
       "      <td>1500</td>\n",
       "      <td>dairy</td>\n",
       "    </tr>\n",
       "    <tr>\n",
       "      <th>24873</th>\n",
       "      <td>2019-09-06 21:50:00</td>\n",
       "      <td>1507</td>\n",
       "      <td>checkout</td>\n",
       "    </tr>\n",
       "    <tr>\n",
       "      <th>24874</th>\n",
       "      <td>2019-09-06 21:50:00</td>\n",
       "      <td>1508</td>\n",
       "      <td>checkout</td>\n",
       "    </tr>\n",
       "    <tr>\n",
       "      <th>24875</th>\n",
       "      <td>2019-09-06 21:50:00</td>\n",
       "      <td>1509</td>\n",
       "      <td>drinks</td>\n",
       "    </tr>\n",
       "    <tr>\n",
       "      <th>24876</th>\n",
       "      <td>2019-09-06 21:50:00</td>\n",
       "      <td>1510</td>\n",
       "      <td>spices</td>\n",
       "    </tr>\n",
       "  </tbody>\n",
       "</table>\n",
       "<p>24877 rows × 3 columns</p>\n",
       "</div>"
      ],
      "text/plain": [
       "                 timestamp  customer_no  location\n",
       "0      2019-09-02 07:03:00            1     dairy\n",
       "1      2019-09-02 07:03:00            2     dairy\n",
       "2      2019-09-02 07:04:00            3     dairy\n",
       "3      2019-09-02 07:04:00            4     dairy\n",
       "4      2019-09-02 07:04:00            5    spices\n",
       "...                    ...          ...       ...\n",
       "24872  2019-09-06 21:50:00         1500     dairy\n",
       "24873  2019-09-06 21:50:00         1507  checkout\n",
       "24874  2019-09-06 21:50:00         1508  checkout\n",
       "24875  2019-09-06 21:50:00         1509    drinks\n",
       "24876  2019-09-06 21:50:00         1510    spices\n",
       "\n",
       "[24877 rows x 3 columns]"
      ]
     },
     "execution_count": 345,
     "metadata": {},
     "output_type": "execute_result"
    }
   ],
   "source": [
    "all_days_df = pd.concat([mon_df, tue_df, wed_df, thu_df, fri_df], ignore_index=True)\n",
    "\n",
    "all_days_df"
   ]
  },
  {
   "cell_type": "code",
   "execution_count": null,
   "metadata": {},
   "outputs": [],
   "source": [
    "\n",
    "all_days_df = pd.DataFrame()\n",
    "\n",
    "for df in [mon_df, tue_df, wed_df, thu_df, fri_df]:\n",
    "    all_days_df = all_days_df.append(add_missing_checkouts(df))\n",
    "\n",
    "all_days_df"
   ]
  },
  {
   "cell_type": "code",
   "execution_count": null,
   "metadata": {},
   "outputs": [],
   "source": []
  },
  {
   "cell_type": "code",
   "execution_count": 329,
   "metadata": {},
   "outputs": [
    {
     "data": {
      "text/plain": [
       "0        1\n",
       "16569    1\n",
       "16591    1\n",
       "16590    1\n",
       "16589    1\n",
       "        ..\n",
       "8290     1\n",
       "8289     1\n",
       "8288     1\n",
       "8287     1\n",
       "24876    1\n",
       "Length: 24877, dtype: int64"
      ]
     },
     "execution_count": 329,
     "metadata": {},
     "output_type": "execute_result"
    }
   ],
   "source": [
    "\n",
    "\n",
    "\n"
   ]
  },
  {
   "cell_type": "code",
   "execution_count": null,
   "metadata": {},
   "outputs": [
    {
     "name": "stdout",
     "output_type": "stream",
     "text": [
      "Total customer: location\n",
      "checkout    7417\n",
      "dairy       4679\n",
      "drinks      3905\n",
      "fruit       5122\n",
      "spices      3754\n",
      "Name: customer_no, dtype: int64\n"
     ]
    }
   ],
   "source": [
    "mon_count=all_days_df.groupby(\"location\")[\"customer_no\"].count()\n",
    "print(\"Total customer:\", mon_count)\n"
   ]
  },
  {
   "cell_type": "code",
   "execution_count": null,
   "metadata": {},
   "outputs": [
    {
     "data": {
      "text/html": [
       "<div>\n",
       "<style scoped>\n",
       "    .dataframe tbody tr th:only-of-type {\n",
       "        vertical-align: middle;\n",
       "    }\n",
       "\n",
       "    .dataframe tbody tr th {\n",
       "        vertical-align: top;\n",
       "    }\n",
       "\n",
       "    .dataframe thead th {\n",
       "        text-align: right;\n",
       "    }\n",
       "</style>\n",
       "<table border=\"1\" class=\"dataframe\">\n",
       "  <thead>\n",
       "    <tr style=\"text-align: right;\">\n",
       "      <th></th>\n",
       "      <th>timestamp</th>\n",
       "      <th>customer_no</th>\n",
       "      <th>location</th>\n",
       "      <th>hour</th>\n",
       "      <th>weekday</th>\n",
       "    </tr>\n",
       "  </thead>\n",
       "  <tbody>\n",
       "    <tr>\n",
       "      <th>24872</th>\n",
       "      <td>2019-09-06 21:50:00</td>\n",
       "      <td>1500</td>\n",
       "      <td>dairy</td>\n",
       "      <td>21</td>\n",
       "      <td>4</td>\n",
       "    </tr>\n",
       "    <tr>\n",
       "      <th>24873</th>\n",
       "      <td>2019-09-06 21:50:00</td>\n",
       "      <td>1507</td>\n",
       "      <td>checkout</td>\n",
       "      <td>21</td>\n",
       "      <td>4</td>\n",
       "    </tr>\n",
       "    <tr>\n",
       "      <th>24874</th>\n",
       "      <td>2019-09-06 21:50:00</td>\n",
       "      <td>1508</td>\n",
       "      <td>checkout</td>\n",
       "      <td>21</td>\n",
       "      <td>4</td>\n",
       "    </tr>\n",
       "    <tr>\n",
       "      <th>24875</th>\n",
       "      <td>2019-09-06 21:50:00</td>\n",
       "      <td>1509</td>\n",
       "      <td>drinks</td>\n",
       "      <td>21</td>\n",
       "      <td>4</td>\n",
       "    </tr>\n",
       "    <tr>\n",
       "      <th>24876</th>\n",
       "      <td>2019-09-06 21:50:00</td>\n",
       "      <td>1510</td>\n",
       "      <td>spices</td>\n",
       "      <td>21</td>\n",
       "      <td>4</td>\n",
       "    </tr>\n",
       "  </tbody>\n",
       "</table>\n",
       "</div>"
      ],
      "text/plain": [
       "                timestamp  customer_no  location  hour  weekday\n",
       "24872 2019-09-06 21:50:00         1500     dairy    21        4\n",
       "24873 2019-09-06 21:50:00         1507  checkout    21        4\n",
       "24874 2019-09-06 21:50:00         1508  checkout    21        4\n",
       "24875 2019-09-06 21:50:00         1509    drinks    21        4\n",
       "24876 2019-09-06 21:50:00         1510    spices    21        4"
      ]
     },
     "execution_count": 299,
     "metadata": {},
     "output_type": "execute_result"
    }
   ],
   "source": [
    "all_days_df[\"timestamp\"] = pd.to_datetime(all_days_df[\"timestamp\"])\n",
    "all_days_df['hour'] = all_days_df['timestamp'].dt.hour\n",
    "all_days_df['weekday'] = all_days_df['timestamp'].dt.weekday\n",
    "\n",
    "all_days_df.tail()\n"
   ]
  },
  {
   "cell_type": "code",
   "execution_count": null,
   "metadata": {},
   "outputs": [
    {
     "data": {
      "text/plain": [
       "0           1\n",
       "1           2\n",
       "2           3\n",
       "3           4\n",
       "4           5\n",
       "         ... \n",
       "24872    1500\n",
       "24873    1507\n",
       "24874    1508\n",
       "24875    1509\n",
       "24876    1510\n",
       "Name: customer_no, Length: 24877, dtype: int64"
      ]
     },
     "execution_count": 300,
     "metadata": {},
     "output_type": "execute_result"
    }
   ],
   "source": [
    "all_days_df['customer_no']"
   ]
  },
  {
   "cell_type": "code",
   "execution_count": null,
   "metadata": {},
   "outputs": [],
   "source": [
    "\n",
    "max_customer_numbers = all_days_df.groupby(['weekday'])['customer_no'].max()\n",
    "\n",
    "max_customer_numbers = max_customer_numbers.shift(1)\n",
    "max_customer_numbers[0] = 0\n",
    "max_customer_numbers = max_customer_numbers.astype(int).cumsum()\n",
    "\n"
   ]
  },
  {
   "cell_type": "code",
   "execution_count": null,
   "metadata": {},
   "outputs": [],
   "source": [
    "\n",
    "\n",
    "# all_days_df.set_index(\"timestamp\", inplace=True)\n",
    "\n",
    "customers_column = all_days_df.apply(lambda x : x['customer_no'] + max_customer_numbers[x['weekday']], axis=1)\n",
    "customers_column.name = \"customer_no\"\n"
   ]
  },
  {
   "cell_type": "code",
   "execution_count": null,
   "metadata": {},
   "outputs": [
    {
     "data": {
      "text/html": [
       "<div>\n",
       "<style scoped>\n",
       "    .dataframe tbody tr th:only-of-type {\n",
       "        vertical-align: middle;\n",
       "    }\n",
       "\n",
       "    .dataframe tbody tr th {\n",
       "        vertical-align: top;\n",
       "    }\n",
       "\n",
       "    .dataframe thead th {\n",
       "        text-align: right;\n",
       "    }\n",
       "</style>\n",
       "<table border=\"1\" class=\"dataframe\">\n",
       "  <thead>\n",
       "    <tr style=\"text-align: right;\">\n",
       "      <th></th>\n",
       "      <th>timestamp</th>\n",
       "      <th>customer_no</th>\n",
       "      <th>location</th>\n",
       "      <th>hour</th>\n",
       "      <th>weekday</th>\n",
       "    </tr>\n",
       "  </thead>\n",
       "  <tbody>\n",
       "    <tr>\n",
       "      <th>0</th>\n",
       "      <td>2019-09-02 07:03:00</td>\n",
       "      <td>1</td>\n",
       "      <td>dairy</td>\n",
       "      <td>7</td>\n",
       "      <td>0</td>\n",
       "    </tr>\n",
       "    <tr>\n",
       "      <th>1</th>\n",
       "      <td>2019-09-02 07:03:00</td>\n",
       "      <td>2</td>\n",
       "      <td>dairy</td>\n",
       "      <td>7</td>\n",
       "      <td>0</td>\n",
       "    </tr>\n",
       "    <tr>\n",
       "      <th>2</th>\n",
       "      <td>2019-09-02 07:04:00</td>\n",
       "      <td>3</td>\n",
       "      <td>dairy</td>\n",
       "      <td>7</td>\n",
       "      <td>0</td>\n",
       "    </tr>\n",
       "    <tr>\n",
       "      <th>3</th>\n",
       "      <td>2019-09-02 07:04:00</td>\n",
       "      <td>4</td>\n",
       "      <td>dairy</td>\n",
       "      <td>7</td>\n",
       "      <td>0</td>\n",
       "    </tr>\n",
       "    <tr>\n",
       "      <th>4</th>\n",
       "      <td>2019-09-02 07:04:00</td>\n",
       "      <td>5</td>\n",
       "      <td>spices</td>\n",
       "      <td>7</td>\n",
       "      <td>0</td>\n",
       "    </tr>\n",
       "    <tr>\n",
       "      <th>...</th>\n",
       "      <td>...</td>\n",
       "      <td>...</td>\n",
       "      <td>...</td>\n",
       "      <td>...</td>\n",
       "      <td>...</td>\n",
       "    </tr>\n",
       "    <tr>\n",
       "      <th>24872</th>\n",
       "      <td>2019-09-06 21:50:00</td>\n",
       "      <td>7435</td>\n",
       "      <td>dairy</td>\n",
       "      <td>21</td>\n",
       "      <td>4</td>\n",
       "    </tr>\n",
       "    <tr>\n",
       "      <th>24873</th>\n",
       "      <td>2019-09-06 21:50:00</td>\n",
       "      <td>7442</td>\n",
       "      <td>checkout</td>\n",
       "      <td>21</td>\n",
       "      <td>4</td>\n",
       "    </tr>\n",
       "    <tr>\n",
       "      <th>24874</th>\n",
       "      <td>2019-09-06 21:50:00</td>\n",
       "      <td>7443</td>\n",
       "      <td>checkout</td>\n",
       "      <td>21</td>\n",
       "      <td>4</td>\n",
       "    </tr>\n",
       "    <tr>\n",
       "      <th>24875</th>\n",
       "      <td>2019-09-06 21:50:00</td>\n",
       "      <td>7444</td>\n",
       "      <td>drinks</td>\n",
       "      <td>21</td>\n",
       "      <td>4</td>\n",
       "    </tr>\n",
       "    <tr>\n",
       "      <th>24876</th>\n",
       "      <td>2019-09-06 21:50:00</td>\n",
       "      <td>7445</td>\n",
       "      <td>spices</td>\n",
       "      <td>21</td>\n",
       "      <td>4</td>\n",
       "    </tr>\n",
       "  </tbody>\n",
       "</table>\n",
       "<p>24877 rows × 5 columns</p>\n",
       "</div>"
      ],
      "text/plain": [
       "                timestamp  customer_no  location  hour  weekday\n",
       "0     2019-09-02 07:03:00            1     dairy     7        0\n",
       "1     2019-09-02 07:03:00            2     dairy     7        0\n",
       "2     2019-09-02 07:04:00            3     dairy     7        0\n",
       "3     2019-09-02 07:04:00            4     dairy     7        0\n",
       "4     2019-09-02 07:04:00            5    spices     7        0\n",
       "...                   ...          ...       ...   ...      ...\n",
       "24872 2019-09-06 21:50:00         7435     dairy    21        4\n",
       "24873 2019-09-06 21:50:00         7442  checkout    21        4\n",
       "24874 2019-09-06 21:50:00         7443  checkout    21        4\n",
       "24875 2019-09-06 21:50:00         7444    drinks    21        4\n",
       "24876 2019-09-06 21:50:00         7445    spices    21        4\n",
       "\n",
       "[24877 rows x 5 columns]"
      ]
     },
     "execution_count": 303,
     "metadata": {},
     "output_type": "execute_result"
    }
   ],
   "source": [
    "\n",
    "all_days_df.update(customers_column)\n",
    "all_days_df\n"
   ]
  },
  {
   "cell_type": "code",
   "execution_count": null,
   "metadata": {},
   "outputs": [
    {
     "data": {
      "text/plain": [
       "timestamp            customer_no  location  hour  weekday  total_timespent  first_location\n",
       "2019-09-02 21:38:00  1430         fruit     21    0        0 days 00:11:00  fruit             1\n",
       "2019-09-05 21:43:00  5927         fruit     21    3        0 days 00:12:00  dairy             1\n",
       "2019-09-06 21:39:00  7429         fruit     21    4        0 days 00:17:00  dairy             1\n",
       "2019-09-06 21:35:00  7431         dairy     21    4        0 days 00:15:00  dairy             1\n",
       "2019-09-06 21:33:00  7429         drinks    21    4        0 days 00:17:00  dairy             1\n",
       "                                                                                             ..\n",
       "2019-09-03 21:34:00  2858         drinks    21    1        0 days 00:21:00  drinks            1\n",
       "2019-09-03 21:33:00  2858         spices    21    1        0 days 00:21:00  drinks            1\n",
       "2019-09-03 21:29:00  2858         drinks    21    1        0 days 00:21:00  drinks            1\n",
       "2019-09-02 21:50:00  1447         fruit     21    0        0 days 00:00:00  fruit             1\n",
       "2019-09-06 21:50:00  7445         spices    21    4        0 days 00:00:00  spices            1\n",
       "Length: 79, dtype: int64"
      ]
     },
     "execution_count": 313,
     "metadata": {},
     "output_type": "execute_result"
    }
   ],
   "source": [
    "\n",
    "\n"
   ]
  },
  {
   "cell_type": "code",
   "execution_count": null,
   "metadata": {},
   "outputs": [
    {
     "data": {
      "text/plain": [
       "<AxesSubplot:xlabel='hour', ylabel='customer_no'>"
      ]
     },
     "execution_count": 304,
     "metadata": {},
     "output_type": "execute_result"
    },
    {
     "data": {
      "image/png": "[encoded data removed]",
      "text/plain": [
       "<Figure size 1440x720 with 1 Axes>"
      ]
     },
     "metadata": {
      "needs_background": "light"
     },
     "output_type": "display_data"
    }
   ],
   "source": [
    "customer_no_per_section_hour = all_days_df.groupby([\"location\", \"hour\"])['customer_no'].count()\n",
    "customer_no_per_section_hour = customer_no_per_section_hour.reset_index()\n",
    "plt.figure(figsize=(20,10))\n",
    "sns.lineplot(data=customer_no_per_section_hour, x=\"hour\", y=\"customer_no\", hue=\"location\")"
   ]
  },
  {
   "cell_type": "code",
   "execution_count": null,
   "metadata": {},
   "outputs": [],
   "source": [
    "\n",
    "all_days_df_cust_no= all_days_df.reset_index().groupby(\"customer_no\")[\"timestamp\"].agg(lambda x : np.max(x)-np.min(x))\n",
    "\n",
    "def get_timespent(customer_no, df):\n",
    "    return df.loc[customer_no]\n",
    "\n",
    "all_days_df['total_timespent'] =  all_days_df['customer_no'].apply(get_timespent, args=(all_days_df_cust_no,))\n",
    "\n"
   ]
  },
  {
   "cell_type": "code",
   "execution_count": null,
   "metadata": {},
   "outputs": [
    {
     "data": {
      "text/html": [
       "<div>\n",
       "<style scoped>\n",
       "    .dataframe tbody tr th:only-of-type {\n",
       "        vertical-align: middle;\n",
       "    }\n",
       "\n",
       "    .dataframe tbody tr th {\n",
       "        vertical-align: top;\n",
       "    }\n",
       "\n",
       "    .dataframe thead th {\n",
       "        text-align: right;\n",
       "    }\n",
       "</style>\n",
       "<table border=\"1\" class=\"dataframe\">\n",
       "  <thead>\n",
       "    <tr style=\"text-align: right;\">\n",
       "      <th></th>\n",
       "      <th>index</th>\n",
       "      <th>timestamp</th>\n",
       "      <th>location</th>\n",
       "      <th>hour</th>\n",
       "      <th>weekday</th>\n",
       "      <th>total_timespent</th>\n",
       "    </tr>\n",
       "    <tr>\n",
       "      <th>customer_no</th>\n",
       "      <th></th>\n",
       "      <th></th>\n",
       "      <th></th>\n",
       "      <th></th>\n",
       "      <th></th>\n",
       "      <th></th>\n",
       "    </tr>\n",
       "  </thead>\n",
       "  <tbody>\n",
       "    <tr>\n",
       "      <th>1</th>\n",
       "      <td>0</td>\n",
       "      <td>2019-09-02 07:03:00</td>\n",
       "      <td>dairy</td>\n",
       "      <td>7</td>\n",
       "      <td>0</td>\n",
       "      <td>0 days 00:02:00</td>\n",
       "    </tr>\n",
       "    <tr>\n",
       "      <th>2</th>\n",
       "      <td>1</td>\n",
       "      <td>2019-09-02 07:03:00</td>\n",
       "      <td>dairy</td>\n",
       "      <td>7</td>\n",
       "      <td>0</td>\n",
       "      <td>0 days 00:03:00</td>\n",
       "    </tr>\n",
       "    <tr>\n",
       "      <th>3</th>\n",
       "      <td>2</td>\n",
       "      <td>2019-09-02 07:04:00</td>\n",
       "      <td>dairy</td>\n",
       "      <td>7</td>\n",
       "      <td>0</td>\n",
       "      <td>0 days 00:02:00</td>\n",
       "    </tr>\n",
       "    <tr>\n",
       "      <th>4</th>\n",
       "      <td>3</td>\n",
       "      <td>2019-09-02 07:04:00</td>\n",
       "      <td>dairy</td>\n",
       "      <td>7</td>\n",
       "      <td>0</td>\n",
       "      <td>0 days 00:04:00</td>\n",
       "    </tr>\n",
       "    <tr>\n",
       "      <th>5</th>\n",
       "      <td>4</td>\n",
       "      <td>2019-09-02 07:04:00</td>\n",
       "      <td>spices</td>\n",
       "      <td>7</td>\n",
       "      <td>0</td>\n",
       "      <td>0 days 00:01:00</td>\n",
       "    </tr>\n",
       "    <tr>\n",
       "      <th>...</th>\n",
       "      <td>...</td>\n",
       "      <td>...</td>\n",
       "      <td>...</td>\n",
       "      <td>...</td>\n",
       "      <td>...</td>\n",
       "      <td>...</td>\n",
       "    </tr>\n",
       "    <tr>\n",
       "      <th>7441</th>\n",
       "      <td>24864</td>\n",
       "      <td>2019-09-06 21:48:00</td>\n",
       "      <td>dairy</td>\n",
       "      <td>21</td>\n",
       "      <td>4</td>\n",
       "      <td>0 days 00:00:00</td>\n",
       "    </tr>\n",
       "    <tr>\n",
       "      <th>7442</th>\n",
       "      <td>24865</td>\n",
       "      <td>2019-09-06 21:48:00</td>\n",
       "      <td>dairy</td>\n",
       "      <td>21</td>\n",
       "      <td>4</td>\n",
       "      <td>0 days 00:02:00</td>\n",
       "    </tr>\n",
       "    <tr>\n",
       "      <th>7443</th>\n",
       "      <td>24866</td>\n",
       "      <td>2019-09-06 21:48:00</td>\n",
       "      <td>dairy</td>\n",
       "      <td>21</td>\n",
       "      <td>4</td>\n",
       "      <td>0 days 00:02:00</td>\n",
       "    </tr>\n",
       "    <tr>\n",
       "      <th>7444</th>\n",
       "      <td>24875</td>\n",
       "      <td>2019-09-06 21:50:00</td>\n",
       "      <td>drinks</td>\n",
       "      <td>21</td>\n",
       "      <td>4</td>\n",
       "      <td>0 days 00:00:00</td>\n",
       "    </tr>\n",
       "    <tr>\n",
       "      <th>7445</th>\n",
       "      <td>24876</td>\n",
       "      <td>2019-09-06 21:50:00</td>\n",
       "      <td>spices</td>\n",
       "      <td>21</td>\n",
       "      <td>4</td>\n",
       "      <td>0 days 00:00:00</td>\n",
       "    </tr>\n",
       "  </tbody>\n",
       "</table>\n",
       "<p>7445 rows × 6 columns</p>\n",
       "</div>"
      ],
      "text/plain": [
       "             index           timestamp location  hour  weekday total_timespent\n",
       "customer_no                                                                   \n",
       "1                0 2019-09-02 07:03:00    dairy     7        0 0 days 00:02:00\n",
       "2                1 2019-09-02 07:03:00    dairy     7        0 0 days 00:03:00\n",
       "3                2 2019-09-02 07:04:00    dairy     7        0 0 days 00:02:00\n",
       "4                3 2019-09-02 07:04:00    dairy     7        0 0 days 00:04:00\n",
       "5                4 2019-09-02 07:04:00   spices     7        0 0 days 00:01:00\n",
       "...            ...                 ...      ...   ...      ...             ...\n",
       "7441         24864 2019-09-06 21:48:00    dairy    21        4 0 days 00:00:00\n",
       "7442         24865 2019-09-06 21:48:00    dairy    21        4 0 days 00:02:00\n",
       "7443         24866 2019-09-06 21:48:00    dairy    21        4 0 days 00:02:00\n",
       "7444         24875 2019-09-06 21:50:00   drinks    21        4 0 days 00:00:00\n",
       "7445         24876 2019-09-06 21:50:00   spices    21        4 0 days 00:00:00\n",
       "\n",
       "[7445 rows x 6 columns]"
      ]
     },
     "execution_count": 306,
     "metadata": {},
     "output_type": "execute_result"
    }
   ],
   "source": [
    "all_days_df_cust_no= all_days_df.reset_index().groupby([\"customer_no\"]).first()\n",
    "all_days_df_cust_no\n"
   ]
  },
  {
   "cell_type": "code",
   "execution_count": null,
   "metadata": {},
   "outputs": [
    {
     "data": {
      "text/plain": [
       "<AxesSubplot:xlabel='location', ylabel='Count'>"
      ]
     },
     "execution_count": 307,
     "metadata": {},
     "output_type": "execute_result"
    },
    {
     "data": {
      "image/png": "[encoded data removed]",
      "text/plain": [
       "<Figure size 432x288 with 1 Axes>"
      ]
     },
     "metadata": {
      "needs_background": "light"
     },
     "output_type": "display_data"
    }
   ],
   "source": [
    "\n",
    "sns.histplot(all_days_df_cust_no['location'])"
   ]
  },
  {
   "cell_type": "code",
   "execution_count": null,
   "metadata": {},
   "outputs": [
    {
     "data": {
      "text/plain": [
       "0"
      ]
     },
     "execution_count": 308,
     "metadata": {},
     "output_type": "execute_result"
    }
   ],
   "source": [
    "all_days_df_cust_no.loc[all_days_df_cust_no[\"location\"] == 'checkout']['location'].count()"
   ]
  },
  {
   "cell_type": "code",
   "execution_count": null,
   "metadata": {},
   "outputs": [
    {
     "data": {
      "text/html": [
       "<div>\n",
       "<style scoped>\n",
       "    .dataframe tbody tr th:only-of-type {\n",
       "        vertical-align: middle;\n",
       "    }\n",
       "\n",
       "    .dataframe tbody tr th {\n",
       "        vertical-align: top;\n",
       "    }\n",
       "\n",
       "    .dataframe thead th {\n",
       "        text-align: right;\n",
       "    }\n",
       "</style>\n",
       "<table border=\"1\" class=\"dataframe\">\n",
       "  <thead>\n",
       "    <tr style=\"text-align: right;\">\n",
       "      <th></th>\n",
       "      <th>timestamp</th>\n",
       "      <th>customer_no</th>\n",
       "      <th>location</th>\n",
       "      <th>hour</th>\n",
       "      <th>weekday</th>\n",
       "      <th>total_timespent</th>\n",
       "      <th>first_location</th>\n",
       "    </tr>\n",
       "  </thead>\n",
       "  <tbody>\n",
       "    <tr>\n",
       "      <th>0</th>\n",
       "      <td>2019-09-02 07:03:00</td>\n",
       "      <td>1</td>\n",
       "      <td>dairy</td>\n",
       "      <td>7</td>\n",
       "      <td>0</td>\n",
       "      <td>0 days 00:02:00</td>\n",
       "      <td>dairy</td>\n",
       "    </tr>\n",
       "    <tr>\n",
       "      <th>1</th>\n",
       "      <td>2019-09-02 07:03:00</td>\n",
       "      <td>2</td>\n",
       "      <td>dairy</td>\n",
       "      <td>7</td>\n",
       "      <td>0</td>\n",
       "      <td>0 days 00:03:00</td>\n",
       "      <td>dairy</td>\n",
       "    </tr>\n",
       "    <tr>\n",
       "      <th>2</th>\n",
       "      <td>2019-09-02 07:04:00</td>\n",
       "      <td>3</td>\n",
       "      <td>dairy</td>\n",
       "      <td>7</td>\n",
       "      <td>0</td>\n",
       "      <td>0 days 00:02:00</td>\n",
       "      <td>dairy</td>\n",
       "    </tr>\n",
       "    <tr>\n",
       "      <th>3</th>\n",
       "      <td>2019-09-02 07:04:00</td>\n",
       "      <td>4</td>\n",
       "      <td>dairy</td>\n",
       "      <td>7</td>\n",
       "      <td>0</td>\n",
       "      <td>0 days 00:04:00</td>\n",
       "      <td>dairy</td>\n",
       "    </tr>\n",
       "    <tr>\n",
       "      <th>4</th>\n",
       "      <td>2019-09-02 07:04:00</td>\n",
       "      <td>5</td>\n",
       "      <td>spices</td>\n",
       "      <td>7</td>\n",
       "      <td>0</td>\n",
       "      <td>0 days 00:01:00</td>\n",
       "      <td>spices</td>\n",
       "    </tr>\n",
       "    <tr>\n",
       "      <th>...</th>\n",
       "      <td>...</td>\n",
       "      <td>...</td>\n",
       "      <td>...</td>\n",
       "      <td>...</td>\n",
       "      <td>...</td>\n",
       "      <td>...</td>\n",
       "      <td>...</td>\n",
       "    </tr>\n",
       "    <tr>\n",
       "      <th>24872</th>\n",
       "      <td>2019-09-06 21:50:00</td>\n",
       "      <td>7435</td>\n",
       "      <td>dairy</td>\n",
       "      <td>21</td>\n",
       "      <td>4</td>\n",
       "      <td>0 days 00:09:00</td>\n",
       "      <td>dairy</td>\n",
       "    </tr>\n",
       "    <tr>\n",
       "      <th>24873</th>\n",
       "      <td>2019-09-06 21:50:00</td>\n",
       "      <td>7442</td>\n",
       "      <td>checkout</td>\n",
       "      <td>21</td>\n",
       "      <td>4</td>\n",
       "      <td>0 days 00:02:00</td>\n",
       "      <td>dairy</td>\n",
       "    </tr>\n",
       "    <tr>\n",
       "      <th>24874</th>\n",
       "      <td>2019-09-06 21:50:00</td>\n",
       "      <td>7443</td>\n",
       "      <td>checkout</td>\n",
       "      <td>21</td>\n",
       "      <td>4</td>\n",
       "      <td>0 days 00:02:00</td>\n",
       "      <td>dairy</td>\n",
       "    </tr>\n",
       "    <tr>\n",
       "      <th>24875</th>\n",
       "      <td>2019-09-06 21:50:00</td>\n",
       "      <td>7444</td>\n",
       "      <td>drinks</td>\n",
       "      <td>21</td>\n",
       "      <td>4</td>\n",
       "      <td>0 days 00:00:00</td>\n",
       "      <td>drinks</td>\n",
       "    </tr>\n",
       "    <tr>\n",
       "      <th>24876</th>\n",
       "      <td>2019-09-06 21:50:00</td>\n",
       "      <td>7445</td>\n",
       "      <td>spices</td>\n",
       "      <td>21</td>\n",
       "      <td>4</td>\n",
       "      <td>0 days 00:00:00</td>\n",
       "      <td>spices</td>\n",
       "    </tr>\n",
       "  </tbody>\n",
       "</table>\n",
       "<p>24877 rows × 7 columns</p>\n",
       "</div>"
      ],
      "text/plain": [
       "                timestamp  customer_no  location  hour  weekday  \\\n",
       "0     2019-09-02 07:03:00            1     dairy     7        0   \n",
       "1     2019-09-02 07:03:00            2     dairy     7        0   \n",
       "2     2019-09-02 07:04:00            3     dairy     7        0   \n",
       "3     2019-09-02 07:04:00            4     dairy     7        0   \n",
       "4     2019-09-02 07:04:00            5    spices     7        0   \n",
       "...                   ...          ...       ...   ...      ...   \n",
       "24872 2019-09-06 21:50:00         7435     dairy    21        4   \n",
       "24873 2019-09-06 21:50:00         7442  checkout    21        4   \n",
       "24874 2019-09-06 21:50:00         7443  checkout    21        4   \n",
       "24875 2019-09-06 21:50:00         7444    drinks    21        4   \n",
       "24876 2019-09-06 21:50:00         7445    spices    21        4   \n",
       "\n",
       "      total_timespent first_location  \n",
       "0     0 days 00:02:00          dairy  \n",
       "1     0 days 00:03:00          dairy  \n",
       "2     0 days 00:02:00          dairy  \n",
       "3     0 days 00:04:00          dairy  \n",
       "4     0 days 00:01:00         spices  \n",
       "...               ...            ...  \n",
       "24872 0 days 00:09:00          dairy  \n",
       "24873 0 days 00:02:00          dairy  \n",
       "24874 0 days 00:02:00          dairy  \n",
       "24875 0 days 00:00:00         drinks  \n",
       "24876 0 days 00:00:00         spices  \n",
       "\n",
       "[24877 rows x 7 columns]"
      ]
     },
     "execution_count": 309,
     "metadata": {},
     "output_type": "execute_result"
    }
   ],
   "source": [
    "all_days_df['first_location'] =  all_days_df['customer_no'].apply(lambda x : all_days_df_cust_no.loc[x]['location'])\n",
    "all_days_df"
   ]
  },
  {
   "cell_type": "code",
   "execution_count": null,
   "metadata": {},
   "outputs": [
    {
     "data": {
      "text/plain": [
       "<AxesSubplot:xlabel='location', ylabel='Count'>"
      ]
     },
     "execution_count": 310,
     "metadata": {},
     "output_type": "execute_result"
    },
    {
     "data": {
      "image/png": "[encoded data removed]",
      "text/plain": [
       "<Figure size 432x288 with 1 Axes>"
      ]
     },
     "metadata": {
      "needs_background": "light"
     },
     "output_type": "display_data"
    }
   ],
   "source": [
    "sns.histplot(all_days_df.loc[all_days_df['first_location'] != all_days_df['location']]['location'])"
   ]
  },
  {
   "cell_type": "code",
   "execution_count": null,
   "metadata": {},
   "outputs": [
    {
     "data": {
      "text/plain": [
       "<AxesSubplot:xlabel='location', ylabel='Count'>"
      ]
     },
     "execution_count": 311,
     "metadata": {},
     "output_type": "execute_result"
    },
    {
     "data": {
      "image/png": "[encoded data removed]",
      "text/plain": [
       "<Figure size 432x288 with 1 Axes>"
      ]
     },
     "metadata": {
      "needs_background": "light"
     },
     "output_type": "display_data"
    }
   ],
   "source": [
    "sns.histplot(all_days_df.loc[(all_days_df['first_location'] != all_days_df['location']) & (all_days_df['location'] != 'checkout')]['location'])"
   ]
  }
 ],
 "metadata": {
  "interpreter": {
   "hash": "bd6591a392eca1367e66f84bf2a307538250480f562075373405c68ebbb4555d"
  },
  "kernelspec": {
   "display_name": "Python 3.9.7 ('base')",
   "language": "python",
   "name": "python3"
  },
  "language_info": {
   "codemirror_mode": {
    "name": "ipython",
    "version": 3
   },
   "file_extension": ".py",
   "mimetype": "text/x-python",
   "name": "python",
   "nbconvert_exporter": "python",
   "pygments_lexer": "ipython3",
   "version": "3.9.7"
  },
  "orig_nbformat": 4
 },
 "nbformat": 4,
 "nbformat_minor": 2
}
