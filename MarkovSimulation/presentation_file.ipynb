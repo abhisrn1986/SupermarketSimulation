{
 "cells": [
  {
   "cell_type": "code",
   "execution_count": 1,
   "metadata": {},
   "outputs": [],
   "source": [
    "\n",
    "\n"
   ]
  },
  {
   "cell_type": "markdown",
   "metadata": {},
   "source": [
    "#IDEA: \n",
    "#User Story: "
   ]
  },
  {
   "cell_type": "code",
   "execution_count": null,
   "metadata": {},
   "outputs": [],
   "source": [
    "import pandas as pd\n",
    "import numpy as np\n",
    "import matplotlib.pyplot as plt\n",
    "import seaborn as sns\n",
    "\n",
    "import logging\n",
    "\n",
    "logging.getLogger().setLevel(logging.INFO)\n",
    "\n",
    "g_figsize = (20,15)\n",
    "g_title_fontsize = 30\n",
    "\n",
    "\n",
    "# add the checkout rows for customers who dont have a checkout timestamp\n",
    "def add_missing_checkouts(df, checkout_label = 'checkout') :\n",
    "    add_rows = df.groupby('customer_no').filter(lambda x : all(x['location'] != 'checkout')).groupby('customer_no').agg({'timestamp':max})\n",
    "    add_rows['location'] = checkout_label\n",
    "    add_rows['timestamp'] = pd.to_datetime(add_rows['timestamp']) + pd.Timedelta(1, 'm') \n",
    "\n",
    "    # we need to have an index here to properly concatenate the rows\n",
    "    # to the initial supermarket dataframes\n",
    "    add_rows.reset_index(inplace=True)\n",
    "\n",
    "    return pd.concat([df, add_rows], ignore_index=True)\n",
    "\n",
    "\n",
    "def get_timespent_location(x, df):\n",
    "    if x['location'] == \"checkout\":\n",
    "        return 0\n",
    "    else:\n",
    "        return (df.iloc[x.name + 1]['timestamp'] - x['timestamp']).seconds/60\n",
    "\n",
    "def customer_total_revenue(df, customer_id, revenue_per_minute) :\n",
    "    try: \n",
    "        customer_df = df.loc[customer_id == df['customer_no']].sort_values(by=['timestamp'])\n",
    "        customer_df.reset_index(inplace=True)\n",
    "        customer_df[\"location_time_spent\"] = customer_df.apply(get_timespent_location, args=(customer_df,), axis=1)\n",
    "        print(customer_df[['location', 'location_time_spent']][:-1].groupby(\"location\").sum())\n",
    "\n",
    "    except KeyError:\n",
    "        print(f\"Check the customer id {customer_id}\")\n",
    "    \n",
    "    # return customer_df\n",
    "    return customer_df[['location', 'location_time_spent']][:-1].groupby(\"location\").sum().apply(lambda x : revenue_per_minute.loc[x.name]['revenue_per_min'] * x, axis=1)\n",
    "\n",
    "\n",
    "def get_customer_transitions(df, customer_id):\n",
    "    customer_transitions = df.loc[customer_id == df['customer_no']].sort_values(by=['timestamp'])\n",
    "\n",
    "    logging.debug(customer_transitions)\n",
    "    minutes = int((customer_transitions[\"timestamp\"].max() - customer_transitions[\"timestamp\"].min()).seconds/60)\n",
    "    current_state = customer_transitions.iloc[0][\"location\"]\n",
    "    minute_transistions = [current_state]\n",
    "\n",
    "    minute_delta = pd.Timedelta(1, 'm')\n",
    "    timestamp = customer_transitions.iloc[0][\"timestamp\"] + minute_delta\n",
    "    row_index = 1\n",
    "    last_index = customer_transitions.shape[0]\n",
    "\n",
    "    next_timestamp = customer_transitions.iloc[row_index][\"timestamp\"]\n",
    "\n",
    "    for minute in range(minutes) :\n",
    "        logging.debug(f\"current time {timestamp}\" )\n",
    "        logging.debug(f\"next time {next_timestamp}\")\n",
    "\n",
    "        # Other way to do this however below method is more efficient\n",
    "        # if (customer_transitions[\"timestamp\"] == timestamp).any():\n",
    "        #     current_state = customer_transitions.loc[customer_transitions[\"timestamp\"] == timestamp]['location'].iloc[0]\n",
    "\n",
    "        if timestamp == next_timestamp:\n",
    "            current_state = customer_transitions.iloc[row_index][\"location\"]\n",
    "            row_index += 1\n",
    "            if(row_index < last_index):\n",
    "                next_timestamp = customer_transitions.iloc[row_index][\"timestamp\"]\n",
    "            logging.debug(f\"changed to {current_state}\")\n",
    "        \n",
    "        minute_transistions.append(current_state)\n",
    "        timestamp += minute_delta\n",
    "\n",
    "    return minute_transistions"
   ]
  },
  {
   "cell_type": "code",
   "execution_count": 2,
   "metadata": {},
   "outputs": [
    {
     "data": {
      "text/plain": [
       "7445"
      ]
     },
     "execution_count": 2,
     "metadata": {},
     "output_type": "execute_result"
    }
   ],
   "source": [
    "mon_df=pd.read_csv(\"monday.csv\",sep=\";\")\n",
    "tue_df=pd.read_csv(\"tuesday.csv\",sep=\";\")\n",
    "wed_df=pd.read_csv(\"wednesday.csv\",sep=\";\")\n",
    "thu_df=pd.read_csv(\"thursday.csv\",sep=\";\")\n",
    "fri_df=pd.read_csv(\"friday.csv\",sep=\";\")\n",
    "\n",
    "init_total_unique_customers = 0\n",
    "\n",
    "for df in [mon_df, tue_df, wed_df, thu_df, fri_df]:\n",
    "    init_total_unique_customers += len(df['customer_no'].unique())\n",
    "    \n",
    "init_total_unique_customers"
   ]
  },
  {
   "cell_type": "code",
   "execution_count": 3,
   "metadata": {},
   "outputs": [
    {
     "data": {
      "text/html": [
       "<div>\n",
       "<style scoped>\n",
       "    .dataframe tbody tr th:only-of-type {\n",
       "        vertical-align: middle;\n",
       "    }\n",
       "\n",
       "    .dataframe tbody tr th {\n",
       "        vertical-align: top;\n",
       "    }\n",
       "\n",
       "    .dataframe thead th {\n",
       "        text-align: right;\n",
       "    }\n",
       "</style>\n",
       "<table border=\"1\" class=\"dataframe\">\n",
       "  <thead>\n",
       "    <tr style=\"text-align: right;\">\n",
       "      <th></th>\n",
       "      <th>timestamp</th>\n",
       "      <th>customer_no</th>\n",
       "      <th>location</th>\n",
       "    </tr>\n",
       "  </thead>\n",
       "  <tbody>\n",
       "    <tr>\n",
       "      <th>0</th>\n",
       "      <td>2019-09-02 07:03:00</td>\n",
       "      <td>1</td>\n",
       "      <td>dairy</td>\n",
       "    </tr>\n",
       "    <tr>\n",
       "      <th>1</th>\n",
       "      <td>2019-09-02 07:03:00</td>\n",
       "      <td>2</td>\n",
       "      <td>dairy</td>\n",
       "    </tr>\n",
       "    <tr>\n",
       "      <th>2</th>\n",
       "      <td>2019-09-02 07:04:00</td>\n",
       "      <td>3</td>\n",
       "      <td>dairy</td>\n",
       "    </tr>\n",
       "    <tr>\n",
       "      <th>3</th>\n",
       "      <td>2019-09-02 07:04:00</td>\n",
       "      <td>4</td>\n",
       "      <td>dairy</td>\n",
       "    </tr>\n",
       "    <tr>\n",
       "      <th>4</th>\n",
       "      <td>2019-09-02 07:04:00</td>\n",
       "      <td>5</td>\n",
       "      <td>spices</td>\n",
       "    </tr>\n",
       "    <tr>\n",
       "      <th>...</th>\n",
       "      <td>...</td>\n",
       "      <td>...</td>\n",
       "      <td>...</td>\n",
       "    </tr>\n",
       "    <tr>\n",
       "      <th>24872</th>\n",
       "      <td>2019-09-06 21:50:00</td>\n",
       "      <td>1500</td>\n",
       "      <td>dairy</td>\n",
       "    </tr>\n",
       "    <tr>\n",
       "      <th>24873</th>\n",
       "      <td>2019-09-06 21:50:00</td>\n",
       "      <td>1507</td>\n",
       "      <td>checkout</td>\n",
       "    </tr>\n",
       "    <tr>\n",
       "      <th>24874</th>\n",
       "      <td>2019-09-06 21:50:00</td>\n",
       "      <td>1508</td>\n",
       "      <td>checkout</td>\n",
       "    </tr>\n",
       "    <tr>\n",
       "      <th>24875</th>\n",
       "      <td>2019-09-06 21:50:00</td>\n",
       "      <td>1509</td>\n",
       "      <td>drinks</td>\n",
       "    </tr>\n",
       "    <tr>\n",
       "      <th>24876</th>\n",
       "      <td>2019-09-06 21:50:00</td>\n",
       "      <td>1510</td>\n",
       "      <td>spices</td>\n",
       "    </tr>\n",
       "  </tbody>\n",
       "</table>\n",
       "<p>24877 rows × 3 columns</p>\n",
       "</div>"
      ],
      "text/plain": [
       "                 timestamp  customer_no  location\n",
       "0      2019-09-02 07:03:00            1     dairy\n",
       "1      2019-09-02 07:03:00            2     dairy\n",
       "2      2019-09-02 07:04:00            3     dairy\n",
       "3      2019-09-02 07:04:00            4     dairy\n",
       "4      2019-09-02 07:04:00            5    spices\n",
       "...                    ...          ...       ...\n",
       "24872  2019-09-06 21:50:00         1500     dairy\n",
       "24873  2019-09-06 21:50:00         1507  checkout\n",
       "24874  2019-09-06 21:50:00         1508  checkout\n",
       "24875  2019-09-06 21:50:00         1509    drinks\n",
       "24876  2019-09-06 21:50:00         1510    spices\n",
       "\n",
       "[24877 rows x 3 columns]"
      ]
     },
     "execution_count": 3,
     "metadata": {},
     "output_type": "execute_result"
    }
   ],
   "source": [
    "all_days_df = pd.concat([mon_df, tue_df, wed_df, thu_df, fri_df], ignore_index=True)\n",
    "\n",
    "all_days_df"
   ]
  },
  {
   "cell_type": "code",
   "execution_count": 4,
   "metadata": {},
   "outputs": [
    {
     "name": "stdout",
     "output_type": "stream",
     "text": [
      "The customers with no checkout information for day 0\n",
      "[1430 1433 1437 1439 1440 1441 1443 1445 1446 1447]\n",
      "---------------------------------------------------------------------------\n"
     ]
    },
    {
     "name": "stderr",
     "output_type": "stream",
     "text": [
      "/var/folders/kv/jcs6c4v14wjbft5xv3xp0sqr0000gn/T/ipykernel_84923/2668381957.py:9: FutureWarning: The frame.append method is deprecated and will be removed from pandas in a future version. Use pandas.concat instead.\n",
      "  no_checkout_df = no_checkout_df.append({\"weekday\": weekday, \"customers_count\":  len(no_checkout_customers_list)}, ignore_index=True)\n",
      "/var/folders/kv/jcs6c4v14wjbft5xv3xp0sqr0000gn/T/ipykernel_84923/2668381957.py:9: FutureWarning: The frame.append method is deprecated and will be removed from pandas in a future version. Use pandas.concat instead.\n",
      "  no_checkout_df = no_checkout_df.append({\"weekday\": weekday, \"customers_count\":  len(no_checkout_customers_list)}, ignore_index=True)\n"
     ]
    },
    {
     "name": "stdout",
     "output_type": "stream",
     "text": [
      "The customers with no checkout information for day 1\n",
      "[1411 1422]\n",
      "---------------------------------------------------------------------------\n",
      "The customers with no checkout information for day 2\n",
      "[1520 1527 1528 1529 1530]\n",
      "---------------------------------------------------------------------------\n",
      "The customers with no checkout information for day 3\n",
      "[1527 1532 1533]\n",
      "---------------------------------------------------------------------------\n",
      "The customers with no checkout information for day 4\n"
     ]
    },
    {
     "name": "stderr",
     "output_type": "stream",
     "text": [
      "/var/folders/kv/jcs6c4v14wjbft5xv3xp0sqr0000gn/T/ipykernel_84923/2668381957.py:9: FutureWarning: The frame.append method is deprecated and will be removed from pandas in a future version. Use pandas.concat instead.\n",
      "  no_checkout_df = no_checkout_df.append({\"weekday\": weekday, \"customers_count\":  len(no_checkout_customers_list)}, ignore_index=True)\n",
      "/var/folders/kv/jcs6c4v14wjbft5xv3xp0sqr0000gn/T/ipykernel_84923/2668381957.py:9: FutureWarning: The frame.append method is deprecated and will be removed from pandas in a future version. Use pandas.concat instead.\n",
      "  no_checkout_df = no_checkout_df.append({\"weekday\": weekday, \"customers_count\":  len(no_checkout_customers_list)}, ignore_index=True)\n"
     ]
    },
    {
     "name": "stdout",
     "output_type": "stream",
     "text": [
      "[1494 1496 1500 1503 1505 1506 1509 1510]\n",
      "---------------------------------------------------------------------------\n"
     ]
    },
    {
     "name": "stderr",
     "output_type": "stream",
     "text": [
      "/var/folders/kv/jcs6c4v14wjbft5xv3xp0sqr0000gn/T/ipykernel_84923/2668381957.py:9: FutureWarning: The frame.append method is deprecated and will be removed from pandas in a future version. Use pandas.concat instead.\n",
      "  no_checkout_df = no_checkout_df.append({\"weekday\": weekday, \"customers_count\":  len(no_checkout_customers_list)}, ignore_index=True)\n"
     ]
    },
    {
     "data": {
      "text/html": [
       "<div>\n",
       "<style scoped>\n",
       "    .dataframe tbody tr th:only-of-type {\n",
       "        vertical-align: middle;\n",
       "    }\n",
       "\n",
       "    .dataframe tbody tr th {\n",
       "        vertical-align: top;\n",
       "    }\n",
       "\n",
       "    .dataframe thead th {\n",
       "        text-align: right;\n",
       "    }\n",
       "</style>\n",
       "<table border=\"1\" class=\"dataframe\">\n",
       "  <thead>\n",
       "    <tr style=\"text-align: right;\">\n",
       "      <th></th>\n",
       "      <th>weekday</th>\n",
       "      <th>customers_count</th>\n",
       "    </tr>\n",
       "  </thead>\n",
       "  <tbody>\n",
       "    <tr>\n",
       "      <th>0</th>\n",
       "      <td>0</td>\n",
       "      <td>10</td>\n",
       "    </tr>\n",
       "    <tr>\n",
       "      <th>1</th>\n",
       "      <td>1</td>\n",
       "      <td>2</td>\n",
       "    </tr>\n",
       "    <tr>\n",
       "      <th>2</th>\n",
       "      <td>2</td>\n",
       "      <td>5</td>\n",
       "    </tr>\n",
       "    <tr>\n",
       "      <th>3</th>\n",
       "      <td>3</td>\n",
       "      <td>3</td>\n",
       "    </tr>\n",
       "    <tr>\n",
       "      <th>4</th>\n",
       "      <td>4</td>\n",
       "      <td>8</td>\n",
       "    </tr>\n",
       "  </tbody>\n",
       "</table>\n",
       "</div>"
      ],
      "text/plain": [
       "  weekday customers_count\n",
       "0       0              10\n",
       "1       1               2\n",
       "2       2               5\n",
       "3       3               3\n",
       "4       4               8"
      ]
     },
     "execution_count": 4,
     "metadata": {},
     "output_type": "execute_result"
    }
   ],
   "source": [
    "# check the number of customers who have no checkout information\n",
    "no_checkout_df = pd.DataFrame(columns=['weekday', 'customers_count'])\n",
    "for df in [mon_df, tue_df, wed_df, thu_df, fri_df]:\n",
    "    weekday = pd.to_datetime(df['timestamp'][0]).weekday()\n",
    "    print(f\"The customers with no checkout information for day {weekday}\")\n",
    "    no_checkout_customers_list = df.groupby('customer_no').filter(lambda x : all(x['location'] != 'checkout')).groupby('customer_no').agg({'timestamp':max}).index.values\n",
    "    print(no_checkout_customers_list)\n",
    "    print(\"---------------------------------------------------------------------------\")\n",
    "    no_checkout_df = no_checkout_df.append({\"weekday\": weekday, \"customers_count\":  len(no_checkout_customers_list)}, ignore_index=True)\n",
    "\n",
    "no_checkout_df\n"
   ]
  },
  {
   "cell_type": "code",
   "execution_count": 8,
   "metadata": {},
   "outputs": [
    {
     "data": {
      "text/plain": [
       "Text(0.5, 1.0, 'Daily Number of Customers without Checkout Information')"
      ]
     },
     "execution_count": 8,
     "metadata": {},
     "output_type": "execute_result"
    },
    {
     "data": {
      "image/png": "[encoded data removed]",
      "text/plain": [
       "<Figure size 1440x1080 with 1 Axes>"
      ]
     },
     "metadata": {
      "needs_background": "light"
     },
     "output_type": "display_data"
    }
   ],
   "source": [
    "\n",
    "plt.figure(figsize=g_figsize)\n",
    "sns.barplot(x=no_checkout_df['weekday'], y=no_checkout_df['customers_count']) \\\n",
    ".set_title(\"Daily Number of Customers without Checkout Information\", \n",
    "fontsize = g_title_fontsize)"
   ]
  },
  {
   "cell_type": "code",
   "execution_count": 7,
   "metadata": {},
   "outputs": [
    {
     "name": "stderr",
     "output_type": "stream",
     "text": [
      "/var/folders/kv/jcs6c4v14wjbft5xv3xp0sqr0000gn/T/ipykernel_84923/4237990396.py:4: FutureWarning: The frame.append method is deprecated and will be removed from pandas in a future version. Use pandas.concat instead.\n",
      "  all_days_df = all_days_df.append(add_missing_checkouts(df), ignore_index=True)\n",
      "/var/folders/kv/jcs6c4v14wjbft5xv3xp0sqr0000gn/T/ipykernel_84923/4237990396.py:4: FutureWarning: The frame.append method is deprecated and will be removed from pandas in a future version. Use pandas.concat instead.\n",
      "  all_days_df = all_days_df.append(add_missing_checkouts(df), ignore_index=True)\n",
      "/var/folders/kv/jcs6c4v14wjbft5xv3xp0sqr0000gn/T/ipykernel_84923/4237990396.py:4: FutureWarning: The frame.append method is deprecated and will be removed from pandas in a future version. Use pandas.concat instead.\n",
      "  all_days_df = all_days_df.append(add_missing_checkouts(df), ignore_index=True)\n",
      "/var/folders/kv/jcs6c4v14wjbft5xv3xp0sqr0000gn/T/ipykernel_84923/4237990396.py:4: FutureWarning: The frame.append method is deprecated and will be removed from pandas in a future version. Use pandas.concat instead.\n",
      "  all_days_df = all_days_df.append(add_missing_checkouts(df), ignore_index=True)\n",
      "/var/folders/kv/jcs6c4v14wjbft5xv3xp0sqr0000gn/T/ipykernel_84923/4237990396.py:4: FutureWarning: The frame.append method is deprecated and will be removed from pandas in a future version. Use pandas.concat instead.\n",
      "  all_days_df = all_days_df.append(add_missing_checkouts(df), ignore_index=True)\n"
     ]
    },
    {
     "data": {
      "text/html": [
       "<div>\n",
       "<style scoped>\n",
       "    .dataframe tbody tr th:only-of-type {\n",
       "        vertical-align: middle;\n",
       "    }\n",
       "\n",
       "    .dataframe tbody tr th {\n",
       "        vertical-align: top;\n",
       "    }\n",
       "\n",
       "    .dataframe thead th {\n",
       "        text-align: right;\n",
       "    }\n",
       "</style>\n",
       "<table border=\"1\" class=\"dataframe\">\n",
       "  <thead>\n",
       "    <tr style=\"text-align: right;\">\n",
       "      <th></th>\n",
       "      <th>timestamp</th>\n",
       "      <th>customer_no</th>\n",
       "      <th>location</th>\n",
       "    </tr>\n",
       "  </thead>\n",
       "  <tbody>\n",
       "    <tr>\n",
       "      <th>0</th>\n",
       "      <td>2019-09-02 07:03:00</td>\n",
       "      <td>1</td>\n",
       "      <td>dairy</td>\n",
       "    </tr>\n",
       "    <tr>\n",
       "      <th>1</th>\n",
       "      <td>2019-09-02 07:03:00</td>\n",
       "      <td>2</td>\n",
       "      <td>dairy</td>\n",
       "    </tr>\n",
       "    <tr>\n",
       "      <th>2</th>\n",
       "      <td>2019-09-02 07:04:00</td>\n",
       "      <td>3</td>\n",
       "      <td>dairy</td>\n",
       "    </tr>\n",
       "    <tr>\n",
       "      <th>3</th>\n",
       "      <td>2019-09-02 07:04:00</td>\n",
       "      <td>4</td>\n",
       "      <td>dairy</td>\n",
       "    </tr>\n",
       "    <tr>\n",
       "      <th>4</th>\n",
       "      <td>2019-09-02 07:04:00</td>\n",
       "      <td>5</td>\n",
       "      <td>spices</td>\n",
       "    </tr>\n",
       "    <tr>\n",
       "      <th>...</th>\n",
       "      <td>...</td>\n",
       "      <td>...</td>\n",
       "      <td>...</td>\n",
       "    </tr>\n",
       "    <tr>\n",
       "      <th>24900</th>\n",
       "      <td>2019-09-06 21:50:00</td>\n",
       "      <td>1503</td>\n",
       "      <td>checkout</td>\n",
       "    </tr>\n",
       "    <tr>\n",
       "      <th>24901</th>\n",
       "      <td>2019-09-06 21:50:00</td>\n",
       "      <td>1505</td>\n",
       "      <td>checkout</td>\n",
       "    </tr>\n",
       "    <tr>\n",
       "      <th>24902</th>\n",
       "      <td>2019-09-06 21:49:00</td>\n",
       "      <td>1506</td>\n",
       "      <td>checkout</td>\n",
       "    </tr>\n",
       "    <tr>\n",
       "      <th>24903</th>\n",
       "      <td>2019-09-06 21:51:00</td>\n",
       "      <td>1509</td>\n",
       "      <td>checkout</td>\n",
       "    </tr>\n",
       "    <tr>\n",
       "      <th>24904</th>\n",
       "      <td>2019-09-06 21:51:00</td>\n",
       "      <td>1510</td>\n",
       "      <td>checkout</td>\n",
       "    </tr>\n",
       "  </tbody>\n",
       "</table>\n",
       "<p>24905 rows × 3 columns</p>\n",
       "</div>"
      ],
      "text/plain": [
       "                 timestamp  customer_no  location\n",
       "0      2019-09-02 07:03:00            1     dairy\n",
       "1      2019-09-02 07:03:00            2     dairy\n",
       "2      2019-09-02 07:04:00            3     dairy\n",
       "3      2019-09-02 07:04:00            4     dairy\n",
       "4      2019-09-02 07:04:00            5    spices\n",
       "...                    ...          ...       ...\n",
       "24900  2019-09-06 21:50:00         1503  checkout\n",
       "24901  2019-09-06 21:50:00         1505  checkout\n",
       "24902  2019-09-06 21:49:00         1506  checkout\n",
       "24903  2019-09-06 21:51:00         1509  checkout\n",
       "24904  2019-09-06 21:51:00         1510  checkout\n",
       "\n",
       "[24905 rows x 3 columns]"
      ]
     },
     "execution_count": 7,
     "metadata": {},
     "output_type": "execute_result"
    }
   ],
   "source": [
    "\n",
    "all_days_df = pd.DataFrame()\n",
    "\n",
    "for df in [mon_df, tue_df, wed_df, thu_df, fri_df]:\n",
    "    all_days_df = all_days_df.append(add_missing_checkouts(df), ignore_index=True)\n",
    "\n",
    "all_days_df"
   ]
  },
  {
   "cell_type": "code",
   "execution_count": 9,
   "metadata": {},
   "outputs": [
    {
     "name": "stdout",
     "output_type": "stream",
     "text": [
      "Total customer: location\n",
      "checkout    7445\n",
      "dairy       4679\n",
      "drinks      3905\n",
      "fruit       5122\n",
      "spices      3754\n",
      "Name: customer_no, dtype: int64\n"
     ]
    }
   ],
   "source": [
    "mon_count=all_days_df.groupby(\"location\")[\"customer_no\"].count()\n",
    "print(\"Total customer:\", mon_count)\n"
   ]
  },
  {
   "cell_type": "code",
   "execution_count": 10,
   "metadata": {},
   "outputs": [
    {
     "data": {
      "text/html": [
       "<div>\n",
       "<style scoped>\n",
       "    .dataframe tbody tr th:only-of-type {\n",
       "        vertical-align: middle;\n",
       "    }\n",
       "\n",
       "    .dataframe tbody tr th {\n",
       "        vertical-align: top;\n",
       "    }\n",
       "\n",
       "    .dataframe thead th {\n",
       "        text-align: right;\n",
       "    }\n",
       "</style>\n",
       "<table border=\"1\" class=\"dataframe\">\n",
       "  <thead>\n",
       "    <tr style=\"text-align: right;\">\n",
       "      <th></th>\n",
       "      <th>timestamp</th>\n",
       "      <th>customer_no</th>\n",
       "      <th>location</th>\n",
       "      <th>hour</th>\n",
       "      <th>weekday</th>\n",
       "    </tr>\n",
       "  </thead>\n",
       "  <tbody>\n",
       "    <tr>\n",
       "      <th>24900</th>\n",
       "      <td>2019-09-06 21:50:00</td>\n",
       "      <td>1503</td>\n",
       "      <td>checkout</td>\n",
       "      <td>21</td>\n",
       "      <td>4</td>\n",
       "    </tr>\n",
       "    <tr>\n",
       "      <th>24901</th>\n",
       "      <td>2019-09-06 21:50:00</td>\n",
       "      <td>1505</td>\n",
       "      <td>checkout</td>\n",
       "      <td>21</td>\n",
       "      <td>4</td>\n",
       "    </tr>\n",
       "    <tr>\n",
       "      <th>24902</th>\n",
       "      <td>2019-09-06 21:49:00</td>\n",
       "      <td>1506</td>\n",
       "      <td>checkout</td>\n",
       "      <td>21</td>\n",
       "      <td>4</td>\n",
       "    </tr>\n",
       "    <tr>\n",
       "      <th>24903</th>\n",
       "      <td>2019-09-06 21:51:00</td>\n",
       "      <td>1509</td>\n",
       "      <td>checkout</td>\n",
       "      <td>21</td>\n",
       "      <td>4</td>\n",
       "    </tr>\n",
       "    <tr>\n",
       "      <th>24904</th>\n",
       "      <td>2019-09-06 21:51:00</td>\n",
       "      <td>1510</td>\n",
       "      <td>checkout</td>\n",
       "      <td>21</td>\n",
       "      <td>4</td>\n",
       "    </tr>\n",
       "  </tbody>\n",
       "</table>\n",
       "</div>"
      ],
      "text/plain": [
       "                timestamp  customer_no  location  hour  weekday\n",
       "24900 2019-09-06 21:50:00         1503  checkout    21        4\n",
       "24901 2019-09-06 21:50:00         1505  checkout    21        4\n",
       "24902 2019-09-06 21:49:00         1506  checkout    21        4\n",
       "24903 2019-09-06 21:51:00         1509  checkout    21        4\n",
       "24904 2019-09-06 21:51:00         1510  checkout    21        4"
      ]
     },
     "execution_count": 10,
     "metadata": {},
     "output_type": "execute_result"
    }
   ],
   "source": [
    "all_days_df[\"timestamp\"] = pd.to_datetime(all_days_df[\"timestamp\"])\n",
    "all_days_df['hour'] = all_days_df['timestamp'].dt.hour\n",
    "all_days_df['weekday'] = all_days_df['timestamp'].dt.weekday\n",
    "\n",
    "all_days_df.tail()\n"
   ]
  },
  {
   "cell_type": "code",
   "execution_count": 11,
   "metadata": {},
   "outputs": [
    {
     "data": {
      "text/plain": [
       "0           1\n",
       "1           2\n",
       "2           3\n",
       "3           4\n",
       "4           5\n",
       "         ... \n",
       "24900    1503\n",
       "24901    1505\n",
       "24902    1506\n",
       "24903    1509\n",
       "24904    1510\n",
       "Name: customer_no, Length: 24905, dtype: int64"
      ]
     },
     "execution_count": 11,
     "metadata": {},
     "output_type": "execute_result"
    }
   ],
   "source": [
    "all_days_df['customer_no']"
   ]
  },
  {
   "cell_type": "code",
   "execution_count": 12,
   "metadata": {},
   "outputs": [],
   "source": [
    "\n",
    "max_customer_numbers = all_days_df.groupby(['weekday'])['customer_no'].max()\n",
    "\n",
    "max_customer_numbers = max_customer_numbers.shift(1)\n",
    "max_customer_numbers[0] = 0\n",
    "max_customer_numbers = max_customer_numbers.astype(int).cumsum()\n",
    "\n"
   ]
  },
  {
   "cell_type": "code",
   "execution_count": 13,
   "metadata": {},
   "outputs": [],
   "source": [
    "\n",
    "\n",
    "# all_days_df.set_index(\"timestamp\", inplace=True)\n",
    "\n",
    "customers_column = all_days_df.apply(lambda x : x['customer_no'] + max_customer_numbers[x['weekday']], axis=1)\n",
    "customers_column.name = \"customer_no\"\n"
   ]
  },
  {
   "cell_type": "code",
   "execution_count": 14,
   "metadata": {},
   "outputs": [
    {
     "data": {
      "text/html": [
       "<div>\n",
       "<style scoped>\n",
       "    .dataframe tbody tr th:only-of-type {\n",
       "        vertical-align: middle;\n",
       "    }\n",
       "\n",
       "    .dataframe tbody tr th {\n",
       "        vertical-align: top;\n",
       "    }\n",
       "\n",
       "    .dataframe thead th {\n",
       "        text-align: right;\n",
       "    }\n",
       "</style>\n",
       "<table border=\"1\" class=\"dataframe\">\n",
       "  <thead>\n",
       "    <tr style=\"text-align: right;\">\n",
       "      <th></th>\n",
       "      <th>timestamp</th>\n",
       "      <th>customer_no</th>\n",
       "      <th>location</th>\n",
       "      <th>hour</th>\n",
       "      <th>weekday</th>\n",
       "    </tr>\n",
       "  </thead>\n",
       "  <tbody>\n",
       "    <tr>\n",
       "      <th>0</th>\n",
       "      <td>2019-09-02 07:03:00</td>\n",
       "      <td>1</td>\n",
       "      <td>dairy</td>\n",
       "      <td>7</td>\n",
       "      <td>0</td>\n",
       "    </tr>\n",
       "    <tr>\n",
       "      <th>1</th>\n",
       "      <td>2019-09-02 07:03:00</td>\n",
       "      <td>2</td>\n",
       "      <td>dairy</td>\n",
       "      <td>7</td>\n",
       "      <td>0</td>\n",
       "    </tr>\n",
       "    <tr>\n",
       "      <th>2</th>\n",
       "      <td>2019-09-02 07:04:00</td>\n",
       "      <td>3</td>\n",
       "      <td>dairy</td>\n",
       "      <td>7</td>\n",
       "      <td>0</td>\n",
       "    </tr>\n",
       "    <tr>\n",
       "      <th>3</th>\n",
       "      <td>2019-09-02 07:04:00</td>\n",
       "      <td>4</td>\n",
       "      <td>dairy</td>\n",
       "      <td>7</td>\n",
       "      <td>0</td>\n",
       "    </tr>\n",
       "    <tr>\n",
       "      <th>4</th>\n",
       "      <td>2019-09-02 07:04:00</td>\n",
       "      <td>5</td>\n",
       "      <td>spices</td>\n",
       "      <td>7</td>\n",
       "      <td>0</td>\n",
       "    </tr>\n",
       "    <tr>\n",
       "      <th>...</th>\n",
       "      <td>...</td>\n",
       "      <td>...</td>\n",
       "      <td>...</td>\n",
       "      <td>...</td>\n",
       "      <td>...</td>\n",
       "    </tr>\n",
       "    <tr>\n",
       "      <th>24900</th>\n",
       "      <td>2019-09-06 21:50:00</td>\n",
       "      <td>7438</td>\n",
       "      <td>checkout</td>\n",
       "      <td>21</td>\n",
       "      <td>4</td>\n",
       "    </tr>\n",
       "    <tr>\n",
       "      <th>24901</th>\n",
       "      <td>2019-09-06 21:50:00</td>\n",
       "      <td>7440</td>\n",
       "      <td>checkout</td>\n",
       "      <td>21</td>\n",
       "      <td>4</td>\n",
       "    </tr>\n",
       "    <tr>\n",
       "      <th>24902</th>\n",
       "      <td>2019-09-06 21:49:00</td>\n",
       "      <td>7441</td>\n",
       "      <td>checkout</td>\n",
       "      <td>21</td>\n",
       "      <td>4</td>\n",
       "    </tr>\n",
       "    <tr>\n",
       "      <th>24903</th>\n",
       "      <td>2019-09-06 21:51:00</td>\n",
       "      <td>7444</td>\n",
       "      <td>checkout</td>\n",
       "      <td>21</td>\n",
       "      <td>4</td>\n",
       "    </tr>\n",
       "    <tr>\n",
       "      <th>24904</th>\n",
       "      <td>2019-09-06 21:51:00</td>\n",
       "      <td>7445</td>\n",
       "      <td>checkout</td>\n",
       "      <td>21</td>\n",
       "      <td>4</td>\n",
       "    </tr>\n",
       "  </tbody>\n",
       "</table>\n",
       "<p>24905 rows × 5 columns</p>\n",
       "</div>"
      ],
      "text/plain": [
       "                timestamp  customer_no  location  hour  weekday\n",
       "0     2019-09-02 07:03:00            1     dairy     7        0\n",
       "1     2019-09-02 07:03:00            2     dairy     7        0\n",
       "2     2019-09-02 07:04:00            3     dairy     7        0\n",
       "3     2019-09-02 07:04:00            4     dairy     7        0\n",
       "4     2019-09-02 07:04:00            5    spices     7        0\n",
       "...                   ...          ...       ...   ...      ...\n",
       "24900 2019-09-06 21:50:00         7438  checkout    21        4\n",
       "24901 2019-09-06 21:50:00         7440  checkout    21        4\n",
       "24902 2019-09-06 21:49:00         7441  checkout    21        4\n",
       "24903 2019-09-06 21:51:00         7444  checkout    21        4\n",
       "24904 2019-09-06 21:51:00         7445  checkout    21        4\n",
       "\n",
       "[24905 rows x 5 columns]"
      ]
     },
     "execution_count": 14,
     "metadata": {},
     "output_type": "execute_result"
    }
   ],
   "source": [
    "\n",
    "all_days_df.update(customers_column)\n",
    "all_days_df\n"
   ]
  },
  {
   "cell_type": "code",
   "execution_count": 15,
   "metadata": {},
   "outputs": [
    {
     "data": {
      "text/plain": [
       "Series([], dtype: int64)"
      ]
     },
     "execution_count": 15,
     "metadata": {},
     "output_type": "execute_result"
    }
   ],
   "source": [
    "all_days_df.groupby('customer_no').filter(lambda x : all(x['location'] != 'checkout')).value_counts()"
   ]
  },
  {
   "cell_type": "code",
   "execution_count": 34,
   "metadata": {},
   "outputs": [],
   "source": [
    "l = all_days_df.groupby(\"location\")"
   ]
  },
  {
   "cell_type": "code",
   "execution_count": 35,
   "metadata": {},
   "outputs": [
    {
     "data": {
      "text/plain": [
       "0    7445\n",
       "1    3818\n",
       "2    3214\n",
       "3    4284\n",
       "4    2938\n",
       "Name: customer_no, dtype: int64"
      ]
     },
     "execution_count": 35,
     "metadata": {},
     "output_type": "execute_result"
    }
   ],
   "source": [
    "loc1 = all_days_df.groupby(['location'])[['customer_no']].nunique().reset_index()\n",
    "loc1[\"customer_no\"] #number of customer by location"
   ]
  },
  {
   "cell_type": "code",
   "execution_count": 36,
   "metadata": {},
   "outputs": [
    {
     "data": {
      "text/plain": [
       "<Figure size 1152x576 with 0 Axes>"
      ]
     },
     "execution_count": 36,
     "metadata": {},
     "output_type": "execute_result"
    },
    {
     "data": {
      "image/png": "[encoded data removed]",
      "text/plain": [
       "<Figure size 432x288 with 1 Axes>"
      ]
     },
     "metadata": {
      "needs_background": "light"
     },
     "output_type": "display_data"
    },
    {
     "data": {
      "text/plain": [
       "<Figure size 1152x576 with 0 Axes>"
      ]
     },
     "metadata": {},
     "output_type": "display_data"
    }
   ],
   "source": [
    "l[\"customer_no\"].count().plot.bar(title='Total Number of Customers in each section')\n",
    "plt.figure(figsize=(16,8))\n",
    "\n",
    "#plt.ylim(0, 8000)"
   ]
  },
  {
   "cell_type": "code",
   "execution_count": 37,
   "metadata": {},
   "outputs": [
    {
     "data": {
      "text/html": [
       "<div>\n",
       "<style scoped>\n",
       "    .dataframe tbody tr th:only-of-type {\n",
       "        vertical-align: middle;\n",
       "    }\n",
       "\n",
       "    .dataframe tbody tr th {\n",
       "        vertical-align: top;\n",
       "    }\n",
       "\n",
       "    .dataframe thead th {\n",
       "        text-align: right;\n",
       "    }\n",
       "</style>\n",
       "<table border=\"1\" class=\"dataframe\">\n",
       "  <thead>\n",
       "    <tr style=\"text-align: right;\">\n",
       "      <th></th>\n",
       "      <th>location</th>\n",
       "      <th>weekday</th>\n",
       "      <th>customer_no</th>\n",
       "    </tr>\n",
       "  </thead>\n",
       "  <tbody>\n",
       "    <tr>\n",
       "      <th>0</th>\n",
       "      <td>checkout</td>\n",
       "      <td>0</td>\n",
       "      <td>1447</td>\n",
       "    </tr>\n",
       "    <tr>\n",
       "      <th>1</th>\n",
       "      <td>checkout</td>\n",
       "      <td>1</td>\n",
       "      <td>1422</td>\n",
       "    </tr>\n",
       "    <tr>\n",
       "      <th>2</th>\n",
       "      <td>checkout</td>\n",
       "      <td>2</td>\n",
       "      <td>1531</td>\n",
       "    </tr>\n",
       "    <tr>\n",
       "      <th>3</th>\n",
       "      <td>checkout</td>\n",
       "      <td>3</td>\n",
       "      <td>1535</td>\n",
       "    </tr>\n",
       "    <tr>\n",
       "      <th>4</th>\n",
       "      <td>checkout</td>\n",
       "      <td>4</td>\n",
       "      <td>1510</td>\n",
       "    </tr>\n",
       "    <tr>\n",
       "      <th>5</th>\n",
       "      <td>dairy</td>\n",
       "      <td>0</td>\n",
       "      <td>720</td>\n",
       "    </tr>\n",
       "    <tr>\n",
       "      <th>6</th>\n",
       "      <td>dairy</td>\n",
       "      <td>1</td>\n",
       "      <td>751</td>\n",
       "    </tr>\n",
       "    <tr>\n",
       "      <th>7</th>\n",
       "      <td>dairy</td>\n",
       "      <td>2</td>\n",
       "      <td>804</td>\n",
       "    </tr>\n",
       "    <tr>\n",
       "      <th>8</th>\n",
       "      <td>dairy</td>\n",
       "      <td>3</td>\n",
       "      <td>782</td>\n",
       "    </tr>\n",
       "    <tr>\n",
       "      <th>9</th>\n",
       "      <td>dairy</td>\n",
       "      <td>4</td>\n",
       "      <td>761</td>\n",
       "    </tr>\n",
       "    <tr>\n",
       "      <th>10</th>\n",
       "      <td>drinks</td>\n",
       "      <td>0</td>\n",
       "      <td>661</td>\n",
       "    </tr>\n",
       "    <tr>\n",
       "      <th>11</th>\n",
       "      <td>drinks</td>\n",
       "      <td>1</td>\n",
       "      <td>581</td>\n",
       "    </tr>\n",
       "    <tr>\n",
       "      <th>12</th>\n",
       "      <td>drinks</td>\n",
       "      <td>2</td>\n",
       "      <td>652</td>\n",
       "    </tr>\n",
       "    <tr>\n",
       "      <th>13</th>\n",
       "      <td>drinks</td>\n",
       "      <td>3</td>\n",
       "      <td>632</td>\n",
       "    </tr>\n",
       "    <tr>\n",
       "      <th>14</th>\n",
       "      <td>drinks</td>\n",
       "      <td>4</td>\n",
       "      <td>688</td>\n",
       "    </tr>\n",
       "    <tr>\n",
       "      <th>15</th>\n",
       "      <td>fruit</td>\n",
       "      <td>0</td>\n",
       "      <td>827</td>\n",
       "    </tr>\n",
       "    <tr>\n",
       "      <th>16</th>\n",
       "      <td>fruit</td>\n",
       "      <td>1</td>\n",
       "      <td>827</td>\n",
       "    </tr>\n",
       "    <tr>\n",
       "      <th>17</th>\n",
       "      <td>fruit</td>\n",
       "      <td>2</td>\n",
       "      <td>884</td>\n",
       "    </tr>\n",
       "    <tr>\n",
       "      <th>18</th>\n",
       "      <td>fruit</td>\n",
       "      <td>3</td>\n",
       "      <td>872</td>\n",
       "    </tr>\n",
       "    <tr>\n",
       "      <th>19</th>\n",
       "      <td>fruit</td>\n",
       "      <td>4</td>\n",
       "      <td>874</td>\n",
       "    </tr>\n",
       "    <tr>\n",
       "      <th>20</th>\n",
       "      <td>spices</td>\n",
       "      <td>0</td>\n",
       "      <td>584</td>\n",
       "    </tr>\n",
       "    <tr>\n",
       "      <th>21</th>\n",
       "      <td>spices</td>\n",
       "      <td>1</td>\n",
       "      <td>543</td>\n",
       "    </tr>\n",
       "    <tr>\n",
       "      <th>22</th>\n",
       "      <td>spices</td>\n",
       "      <td>2</td>\n",
       "      <td>565</td>\n",
       "    </tr>\n",
       "    <tr>\n",
       "      <th>23</th>\n",
       "      <td>spices</td>\n",
       "      <td>3</td>\n",
       "      <td>613</td>\n",
       "    </tr>\n",
       "    <tr>\n",
       "      <th>24</th>\n",
       "      <td>spices</td>\n",
       "      <td>4</td>\n",
       "      <td>633</td>\n",
       "    </tr>\n",
       "  </tbody>\n",
       "</table>\n",
       "</div>"
      ],
      "text/plain": [
       "    location  weekday  customer_no\n",
       "0   checkout        0         1447\n",
       "1   checkout        1         1422\n",
       "2   checkout        2         1531\n",
       "3   checkout        3         1535\n",
       "4   checkout        4         1510\n",
       "5      dairy        0          720\n",
       "6      dairy        1          751\n",
       "7      dairy        2          804\n",
       "8      dairy        3          782\n",
       "9      dairy        4          761\n",
       "10    drinks        0          661\n",
       "11    drinks        1          581\n",
       "12    drinks        2          652\n",
       "13    drinks        3          632\n",
       "14    drinks        4          688\n",
       "15     fruit        0          827\n",
       "16     fruit        1          827\n",
       "17     fruit        2          884\n",
       "18     fruit        3          872\n",
       "19     fruit        4          874\n",
       "20    spices        0          584\n",
       "21    spices        1          543\n",
       "22    spices        2          565\n",
       "23    spices        3          613\n",
       "24    spices        4          633"
      ]
     },
     "execution_count": 37,
     "metadata": {},
     "output_type": "execute_result"
    }
   ],
   "source": [
    "#2 : Calculate the total number of customers in each section over time\n",
    "loct= all_days_df.groupby(['location', 'weekday'])[['customer_no']].nunique().reset_index()\n",
    "loct"
   ]
  },
  {
   "cell_type": "code",
   "execution_count": 39,
   "metadata": {},
   "outputs": [
    {
     "data": {
      "image/png": "[encoded data removed]",
      "text/plain": [
       "<Figure size 1368x720 with 1 Axes>"
      ]
     },
     "metadata": {
      "needs_background": "light"
     },
     "output_type": "display_data"
    }
   ],
   "source": [
    "#Visualisation: the total number of customers in each section over time\n",
    "plt.figure(figsize=(19,10))\n",
    "sns.barplot(data =loct, x='weekday', y ='customer_no', hue='location')\n",
    "plt.xlabel('Day')\n",
    "plt.ylabel('Number of Customers')\n",
    "plt.title('Daily Total Number of Customers by Department')\n",
    "#plt.ylim(6, 14)\n",
    "plt.show()\n"
   ]
  },
  {
   "cell_type": "code",
   "execution_count": 17,
   "metadata": {},
   "outputs": [
    {
     "data": {
      "text/plain": [
       "Text(0.5, 1.0, 'Number of Customers by Day, Location and Hour')"
      ]
     },
     "execution_count": 17,
     "metadata": {},
     "output_type": "execute_result"
    },
    {
     "data": {
      "image/png": "[encoded data removed]",
      "text/plain": [
       "<Figure size 1440x1080 with 1 Axes>"
      ]
     },
     "metadata": {
      "needs_background": "light"
     },
     "output_type": "display_data"
    }
   ],
   "source": [
    "customer_no_per_section_hour = all_days_df.groupby([\"location\", \"hour\"])['customer_no'].count()\n",
    "customer_no_per_section_hour = customer_no_per_section_hour.reset_index()\n",
    "plt.figure(figsize=g_figsize)\n",
    "sns.lineplot(data=customer_no_per_section_hour, x=\"hour\", y=\"customer_no\", hue=\"location\")\\\n",
    "    .set_title(\"Number of Customers by Day, Location and Hour\", \n",
    "    fontsize = g_title_fontsize)"
   ]
  },
  {
   "cell_type": "code",
   "execution_count": 18,
   "metadata": {},
   "outputs": [],
   "source": [
    "\n",
    "all_days_df_cust_no= all_days_df.reset_index().groupby(\"customer_no\")[\"timestamp\"].agg(lambda x : np.max(x)-np.min(x))\n",
    "\n",
    "def get_timespent(customer_no, df):\n",
    "    return df.loc[customer_no]\n",
    "\n",
    "all_days_df['total_timespent'] =  all_days_df['customer_no'].apply(get_timespent, args=(all_days_df_cust_no,))\n",
    "\n"
   ]
  },
  {
   "cell_type": "code",
   "execution_count": 19,
   "metadata": {},
   "outputs": [
    {
     "name": "stderr",
     "output_type": "stream",
     "text": [
      "/var/folders/kv/jcs6c4v14wjbft5xv3xp0sqr0000gn/T/ipykernel_84923/2755232060.py:1: FutureWarning: Indexing with multiple keys (implicitly converted to a tuple of keys) will be deprecated, use a list instead.\n",
      "  all_days_df_cust_no= all_days_df.reset_index().groupby([\"customer_no\"])[\"timestamp\", \"location\"].first()\n"
     ]
    },
    {
     "data": {
      "text/plain": [
       "fruit     0.377435\n",
       "dairy     0.287576\n",
       "spices    0.181464\n",
       "drinks    0.153526\n",
       "Name: location, dtype: float64"
      ]
     },
     "execution_count": 19,
     "metadata": {},
     "output_type": "execute_result"
    }
   ],
   "source": [
    "all_days_df_cust_no= all_days_df.reset_index().groupby([\"customer_no\"])[\"timestamp\", \"location\"].first()\n",
    "n_customers = len(all_days_df_cust_no)\n",
    "all_days_df_cust_no['location'].value_counts()/n_customers\n",
    "# all_days_df_cust_no\n"
   ]
  },
  {
   "cell_type": "code",
   "execution_count": 32,
   "metadata": {},
   "outputs": [
    {
     "data": {
      "text/plain": [
       "Text(0.5, 1.0, 'Number of Customers by Their Second Choice')"
      ]
     },
     "execution_count": 32,
     "metadata": {},
     "output_type": "execute_result"
    },
    {
     "data": {
      "image/png": "[encoded data removed]",
      "text/plain": [
       "<Figure size 1440x1080 with 1 Axes>"
      ]
     },
     "metadata": {
      "needs_background": "light"
     },
     "output_type": "display_data"
    },
    {
     "data": {
      "image/png": "[encoded data removed]",
      "text/plain": [
       "<Figure size 1440x1080 with 1 Axes>"
      ]
     },
     "metadata": {
      "needs_background": "light"
     },
     "output_type": "display_data"
    }
   ],
   "source": [
    "plt.figure(figsize=g_figsize)\n",
    "sns.histplot(all_days_df_cust_no['location']).set_title(\"The Number of Customers by Their First Section of Supermarket\", \n",
    "fontsize = g_title_fontsize)\n",
    "plt.figure(figsize=g_figsize)\n",
    "sns.histplot(all_days_df.loc[all_days_df['first_location'] != all_days_df['location']]['location'])\\\n",
    "    .set_title(\"Number of Customers by Their Second Choice\", \n",
    "    fontsize = g_title_fontsize)"
   ]
  },
  {
   "cell_type": "code",
   "execution_count": 22,
   "metadata": {},
   "outputs": [
    {
     "data": {
      "text/plain": [
       "0"
      ]
     },
     "execution_count": 22,
     "metadata": {},
     "output_type": "execute_result"
    }
   ],
   "source": [
    "all_days_df_cust_no.loc[all_days_df_cust_no[\"location\"] == 'checkout']['location'].count()"
   ]
  },
  {
   "cell_type": "code",
   "execution_count": 23,
   "metadata": {},
   "outputs": [
    {
     "data": {
      "text/html": [
       "<div>\n",
       "<style scoped>\n",
       "    .dataframe tbody tr th:only-of-type {\n",
       "        vertical-align: middle;\n",
       "    }\n",
       "\n",
       "    .dataframe tbody tr th {\n",
       "        vertical-align: top;\n",
       "    }\n",
       "\n",
       "    .dataframe thead th {\n",
       "        text-align: right;\n",
       "    }\n",
       "</style>\n",
       "<table border=\"1\" class=\"dataframe\">\n",
       "  <thead>\n",
       "    <tr style=\"text-align: right;\">\n",
       "      <th></th>\n",
       "      <th>timestamp</th>\n",
       "      <th>customer_no</th>\n",
       "      <th>location</th>\n",
       "      <th>hour</th>\n",
       "      <th>weekday</th>\n",
       "      <th>total_timespent</th>\n",
       "      <th>first_location</th>\n",
       "    </tr>\n",
       "  </thead>\n",
       "  <tbody>\n",
       "    <tr>\n",
       "      <th>0</th>\n",
       "      <td>2019-09-02 07:03:00</td>\n",
       "      <td>1</td>\n",
       "      <td>dairy</td>\n",
       "      <td>7</td>\n",
       "      <td>0</td>\n",
       "      <td>0 days 00:02:00</td>\n",
       "      <td>dairy</td>\n",
       "    </tr>\n",
       "    <tr>\n",
       "      <th>1</th>\n",
       "      <td>2019-09-02 07:03:00</td>\n",
       "      <td>2</td>\n",
       "      <td>dairy</td>\n",
       "      <td>7</td>\n",
       "      <td>0</td>\n",
       "      <td>0 days 00:03:00</td>\n",
       "      <td>dairy</td>\n",
       "    </tr>\n",
       "    <tr>\n",
       "      <th>2</th>\n",
       "      <td>2019-09-02 07:04:00</td>\n",
       "      <td>3</td>\n",
       "      <td>dairy</td>\n",
       "      <td>7</td>\n",
       "      <td>0</td>\n",
       "      <td>0 days 00:02:00</td>\n",
       "      <td>dairy</td>\n",
       "    </tr>\n",
       "    <tr>\n",
       "      <th>3</th>\n",
       "      <td>2019-09-02 07:04:00</td>\n",
       "      <td>4</td>\n",
       "      <td>dairy</td>\n",
       "      <td>7</td>\n",
       "      <td>0</td>\n",
       "      <td>0 days 00:04:00</td>\n",
       "      <td>dairy</td>\n",
       "    </tr>\n",
       "    <tr>\n",
       "      <th>4</th>\n",
       "      <td>2019-09-02 07:04:00</td>\n",
       "      <td>5</td>\n",
       "      <td>spices</td>\n",
       "      <td>7</td>\n",
       "      <td>0</td>\n",
       "      <td>0 days 00:01:00</td>\n",
       "      <td>spices</td>\n",
       "    </tr>\n",
       "    <tr>\n",
       "      <th>...</th>\n",
       "      <td>...</td>\n",
       "      <td>...</td>\n",
       "      <td>...</td>\n",
       "      <td>...</td>\n",
       "      <td>...</td>\n",
       "      <td>...</td>\n",
       "      <td>...</td>\n",
       "    </tr>\n",
       "    <tr>\n",
       "      <th>24900</th>\n",
       "      <td>2019-09-06 21:50:00</td>\n",
       "      <td>7438</td>\n",
       "      <td>checkout</td>\n",
       "      <td>21</td>\n",
       "      <td>4</td>\n",
       "      <td>0 days 00:03:00</td>\n",
       "      <td>dairy</td>\n",
       "    </tr>\n",
       "    <tr>\n",
       "      <th>24901</th>\n",
       "      <td>2019-09-06 21:50:00</td>\n",
       "      <td>7440</td>\n",
       "      <td>checkout</td>\n",
       "      <td>21</td>\n",
       "      <td>4</td>\n",
       "      <td>0 days 00:02:00</td>\n",
       "      <td>fruit</td>\n",
       "    </tr>\n",
       "    <tr>\n",
       "      <th>24902</th>\n",
       "      <td>2019-09-06 21:49:00</td>\n",
       "      <td>7441</td>\n",
       "      <td>checkout</td>\n",
       "      <td>21</td>\n",
       "      <td>4</td>\n",
       "      <td>0 days 00:01:00</td>\n",
       "      <td>dairy</td>\n",
       "    </tr>\n",
       "    <tr>\n",
       "      <th>24903</th>\n",
       "      <td>2019-09-06 21:51:00</td>\n",
       "      <td>7444</td>\n",
       "      <td>checkout</td>\n",
       "      <td>21</td>\n",
       "      <td>4</td>\n",
       "      <td>0 days 00:01:00</td>\n",
       "      <td>drinks</td>\n",
       "    </tr>\n",
       "    <tr>\n",
       "      <th>24904</th>\n",
       "      <td>2019-09-06 21:51:00</td>\n",
       "      <td>7445</td>\n",
       "      <td>checkout</td>\n",
       "      <td>21</td>\n",
       "      <td>4</td>\n",
       "      <td>0 days 00:01:00</td>\n",
       "      <td>spices</td>\n",
       "    </tr>\n",
       "  </tbody>\n",
       "</table>\n",
       "<p>24905 rows × 7 columns</p>\n",
       "</div>"
      ],
      "text/plain": [
       "                timestamp  customer_no  location  hour  weekday  \\\n",
       "0     2019-09-02 07:03:00            1     dairy     7        0   \n",
       "1     2019-09-02 07:03:00            2     dairy     7        0   \n",
       "2     2019-09-02 07:04:00            3     dairy     7        0   \n",
       "3     2019-09-02 07:04:00            4     dairy     7        0   \n",
       "4     2019-09-02 07:04:00            5    spices     7        0   \n",
       "...                   ...          ...       ...   ...      ...   \n",
       "24900 2019-09-06 21:50:00         7438  checkout    21        4   \n",
       "24901 2019-09-06 21:50:00         7440  checkout    21        4   \n",
       "24902 2019-09-06 21:49:00         7441  checkout    21        4   \n",
       "24903 2019-09-06 21:51:00         7444  checkout    21        4   \n",
       "24904 2019-09-06 21:51:00         7445  checkout    21        4   \n",
       "\n",
       "      total_timespent first_location  \n",
       "0     0 days 00:02:00          dairy  \n",
       "1     0 days 00:03:00          dairy  \n",
       "2     0 days 00:02:00          dairy  \n",
       "3     0 days 00:04:00          dairy  \n",
       "4     0 days 00:01:00         spices  \n",
       "...               ...            ...  \n",
       "24900 0 days 00:03:00          dairy  \n",
       "24901 0 days 00:02:00          fruit  \n",
       "24902 0 days 00:01:00          dairy  \n",
       "24903 0 days 00:01:00         drinks  \n",
       "24904 0 days 00:01:00         spices  \n",
       "\n",
       "[24905 rows x 7 columns]"
      ]
     },
     "execution_count": 23,
     "metadata": {},
     "output_type": "execute_result"
    }
   ],
   "source": [
    "all_days_df['first_location'] =  all_days_df['customer_no'].apply(lambda x : all_days_df_cust_no.loc[x]['location'])\n",
    "all_days_df"
   ]
  },
  {
   "cell_type": "code",
   "execution_count": 25,
   "metadata": {},
   "outputs": [
    {
     "data": {
      "text/html": [
       "<div>\n",
       "<style scoped>\n",
       "    .dataframe tbody tr th:only-of-type {\n",
       "        vertical-align: middle;\n",
       "    }\n",
       "\n",
       "    .dataframe tbody tr th {\n",
       "        vertical-align: top;\n",
       "    }\n",
       "\n",
       "    .dataframe thead th {\n",
       "        text-align: right;\n",
       "    }\n",
       "</style>\n",
       "<table border=\"1\" class=\"dataframe\">\n",
       "  <thead>\n",
       "    <tr style=\"text-align: right;\">\n",
       "      <th></th>\n",
       "      <th>revenue_per_min</th>\n",
       "    </tr>\n",
       "    <tr>\n",
       "      <th>location</th>\n",
       "      <th></th>\n",
       "    </tr>\n",
       "  </thead>\n",
       "  <tbody>\n",
       "    <tr>\n",
       "      <th>fruit</th>\n",
       "      <td>4.0</td>\n",
       "    </tr>\n",
       "    <tr>\n",
       "      <th>spices</th>\n",
       "      <td>3.0</td>\n",
       "    </tr>\n",
       "    <tr>\n",
       "      <th>dairy</th>\n",
       "      <td>5.0</td>\n",
       "    </tr>\n",
       "    <tr>\n",
       "      <th>drinks</th>\n",
       "      <td>6.0</td>\n",
       "    </tr>\n",
       "  </tbody>\n",
       "</table>\n",
       "</div>"
      ],
      "text/plain": [
       "          revenue_per_min\n",
       "location                 \n",
       "fruit                 4.0\n",
       "spices                3.0\n",
       "dairy                 5.0\n",
       "drinks                6.0"
      ]
     },
     "execution_count": 25,
     "metadata": {},
     "output_type": "execute_result"
    }
   ],
   "source": [
    "\n",
    "revenue_per_minute = pd.DataFrame(data = {\"revenue_per_min\": [4.0, 3.0, 5.0, 6.0]}, index=['fruit', 'spices', 'dairy', 'drinks'])\n",
    "revenue_per_minute.index.name = 'location'\n",
    "revenue_per_minute\n"
   ]
  },
  {
   "cell_type": "code",
   "execution_count": 26,
   "metadata": {},
   "outputs": [
    {
     "name": "stdout",
     "output_type": "stream",
     "text": [
      "          location_time_spent\n",
      "location                     \n",
      "dairy                     2.0\n",
      "fruit                    10.0\n"
     ]
    },
    {
     "data": {
      "text/html": [
       "<div>\n",
       "<style scoped>\n",
       "    .dataframe tbody tr th:only-of-type {\n",
       "        vertical-align: middle;\n",
       "    }\n",
       "\n",
       "    .dataframe tbody tr th {\n",
       "        vertical-align: top;\n",
       "    }\n",
       "\n",
       "    .dataframe thead th {\n",
       "        text-align: right;\n",
       "    }\n",
       "</style>\n",
       "<table border=\"1\" class=\"dataframe\">\n",
       "  <thead>\n",
       "    <tr style=\"text-align: right;\">\n",
       "      <th></th>\n",
       "      <th>location_time_spent</th>\n",
       "    </tr>\n",
       "    <tr>\n",
       "      <th>location</th>\n",
       "      <th></th>\n",
       "    </tr>\n",
       "  </thead>\n",
       "  <tbody>\n",
       "    <tr>\n",
       "      <th>dairy</th>\n",
       "      <td>10.0</td>\n",
       "    </tr>\n",
       "    <tr>\n",
       "      <th>fruit</th>\n",
       "      <td>40.0</td>\n",
       "    </tr>\n",
       "  </tbody>\n",
       "</table>\n",
       "</div>"
      ],
      "text/plain": [
       "          location_time_spent\n",
       "location                     \n",
       "dairy                    10.0\n",
       "fruit                    40.0"
      ]
     },
     "execution_count": 26,
     "metadata": {},
     "output_type": "execute_result"
    }
   ],
   "source": [
    "\n",
    "customer_spent_df = customer_total_revenue(all_days_df, 1430, revenue_per_minute)\n",
    "customer_spent_df"
   ]
  },
  {
   "cell_type": "code",
   "execution_count": 27,
   "metadata": {},
   "outputs": [
    {
     "data": {
      "text/plain": [
       "7445"
      ]
     },
     "execution_count": 27,
     "metadata": {},
     "output_type": "execute_result"
    }
   ],
   "source": [
    "overall_transistions = pd.DataFrame()\n",
    "n_customers"
   ]
  },
  {
   "cell_type": "code",
   "execution_count": 28,
   "metadata": {},
   "outputs": [],
   "source": [
    "\n",
    "\n",
    "for i in range(1, n_customers + 1):\n",
    "    try:\n",
    "        customer_transitions = get_customer_transitions(all_days_df, i)\n",
    "        states = pd.DataFrame(customer_transitions)\n",
    "        states.rename({0:\"section\"}, inplace=True, axis=1)\n",
    "        states['section_next_minute'] = states['section'].shift(-1)\n",
    "    except:\n",
    "        print(\"Error at \", i)\n",
    "\n",
    "    # states.dropna(inplace=True)\n",
    "    overall_transistions = pd.concat([overall_transistions, states], ignore_index=True)\n",
    "    \n"
   ]
  },
  {
   "cell_type": "code",
   "execution_count": 29,
   "metadata": {},
   "outputs": [
    {
     "data": {
      "text/html": [
       "<div>\n",
       "<style scoped>\n",
       "    .dataframe tbody tr th:only-of-type {\n",
       "        vertical-align: middle;\n",
       "    }\n",
       "\n",
       "    .dataframe tbody tr th {\n",
       "        vertical-align: top;\n",
       "    }\n",
       "\n",
       "    .dataframe thead th {\n",
       "        text-align: right;\n",
       "    }\n",
       "</style>\n",
       "<table border=\"1\" class=\"dataframe\">\n",
       "  <thead>\n",
       "    <tr style=\"text-align: right;\">\n",
       "      <th></th>\n",
       "      <th>section</th>\n",
       "      <th>section_next_minute</th>\n",
       "    </tr>\n",
       "  </thead>\n",
       "  <tbody>\n",
       "    <tr>\n",
       "      <th>0</th>\n",
       "      <td>dairy</td>\n",
       "      <td>dairy</td>\n",
       "    </tr>\n",
       "    <tr>\n",
       "      <th>1</th>\n",
       "      <td>dairy</td>\n",
       "      <td>checkout</td>\n",
       "    </tr>\n",
       "    <tr>\n",
       "      <th>3</th>\n",
       "      <td>dairy</td>\n",
       "      <td>dairy</td>\n",
       "    </tr>\n",
       "    <tr>\n",
       "      <th>4</th>\n",
       "      <td>dairy</td>\n",
       "      <td>dairy</td>\n",
       "    </tr>\n",
       "    <tr>\n",
       "      <th>5</th>\n",
       "      <td>dairy</td>\n",
       "      <td>checkout</td>\n",
       "    </tr>\n",
       "    <tr>\n",
       "      <th>...</th>\n",
       "      <td>...</td>\n",
       "      <td>...</td>\n",
       "    </tr>\n",
       "    <tr>\n",
       "      <th>53922</th>\n",
       "      <td>dairy</td>\n",
       "      <td>checkout</td>\n",
       "    </tr>\n",
       "    <tr>\n",
       "      <th>53924</th>\n",
       "      <td>dairy</td>\n",
       "      <td>dairy</td>\n",
       "    </tr>\n",
       "    <tr>\n",
       "      <th>53925</th>\n",
       "      <td>dairy</td>\n",
       "      <td>checkout</td>\n",
       "    </tr>\n",
       "    <tr>\n",
       "      <th>53927</th>\n",
       "      <td>drinks</td>\n",
       "      <td>checkout</td>\n",
       "    </tr>\n",
       "    <tr>\n",
       "      <th>53929</th>\n",
       "      <td>spices</td>\n",
       "      <td>checkout</td>\n",
       "    </tr>\n",
       "  </tbody>\n",
       "</table>\n",
       "<p>46486 rows × 2 columns</p>\n",
       "</div>"
      ],
      "text/plain": [
       "      section section_next_minute\n",
       "0       dairy               dairy\n",
       "1       dairy            checkout\n",
       "3       dairy               dairy\n",
       "4       dairy               dairy\n",
       "5       dairy            checkout\n",
       "...       ...                 ...\n",
       "53922   dairy            checkout\n",
       "53924   dairy               dairy\n",
       "53925   dairy            checkout\n",
       "53927  drinks            checkout\n",
       "53929  spices            checkout\n",
       "\n",
       "[46486 rows x 2 columns]"
      ]
     },
     "execution_count": 29,
     "metadata": {},
     "output_type": "execute_result"
    }
   ],
   "source": [
    "\n",
    "overall_transistions.dropna(inplace=True)\n",
    "overall_transistions\n"
   ]
  },
  {
   "cell_type": "code",
   "execution_count": 30,
   "metadata": {},
   "outputs": [
    {
     "data": {
      "text/html": [
       "<div>\n",
       "<style scoped>\n",
       "    .dataframe tbody tr th:only-of-type {\n",
       "        vertical-align: middle;\n",
       "    }\n",
       "\n",
       "    .dataframe tbody tr th {\n",
       "        vertical-align: top;\n",
       "    }\n",
       "\n",
       "    .dataframe thead th {\n",
       "        text-align: right;\n",
       "    }\n",
       "</style>\n",
       "<table border=\"1\" class=\"dataframe\">\n",
       "  <thead>\n",
       "    <tr style=\"text-align: right;\">\n",
       "      <th>section_next_minute</th>\n",
       "      <th>checkout</th>\n",
       "      <th>dairy</th>\n",
       "      <th>drinks</th>\n",
       "      <th>fruit</th>\n",
       "      <th>spices</th>\n",
       "    </tr>\n",
       "    <tr>\n",
       "      <th>section</th>\n",
       "      <th></th>\n",
       "      <th></th>\n",
       "      <th></th>\n",
       "      <th></th>\n",
       "      <th></th>\n",
       "    </tr>\n",
       "  </thead>\n",
       "  <tbody>\n",
       "    <tr>\n",
       "      <th>dairy</th>\n",
       "      <td>0.103466</td>\n",
       "      <td>0.736750</td>\n",
       "      <td>0.058569</td>\n",
       "      <td>0.049848</td>\n",
       "      <td>0.051367</td>\n",
       "    </tr>\n",
       "    <tr>\n",
       "      <th>drinks</th>\n",
       "      <td>0.215710</td>\n",
       "      <td>0.010899</td>\n",
       "      <td>0.598499</td>\n",
       "      <td>0.087909</td>\n",
       "      <td>0.086983</td>\n",
       "    </tr>\n",
       "    <tr>\n",
       "      <th>fruit</th>\n",
       "      <td>0.201605</td>\n",
       "      <td>0.095924</td>\n",
       "      <td>0.054847</td>\n",
       "      <td>0.596947</td>\n",
       "      <td>0.050677</td>\n",
       "    </tr>\n",
       "    <tr>\n",
       "      <th>spices</th>\n",
       "      <td>0.150685</td>\n",
       "      <td>0.193214</td>\n",
       "      <td>0.163109</td>\n",
       "      <td>0.090953</td>\n",
       "      <td>0.402039</td>\n",
       "    </tr>\n",
       "  </tbody>\n",
       "</table>\n",
       "</div>"
      ],
      "text/plain": [
       "section_next_minute  checkout     dairy    drinks     fruit    spices\n",
       "section                                                              \n",
       "dairy                0.103466  0.736750  0.058569  0.049848  0.051367\n",
       "drinks               0.215710  0.010899  0.598499  0.087909  0.086983\n",
       "fruit                0.201605  0.095924  0.054847  0.596947  0.050677\n",
       "spices               0.150685  0.193214  0.163109  0.090953  0.402039"
      ]
     },
     "execution_count": 30,
     "metadata": {},
     "output_type": "execute_result"
    }
   ],
   "source": [
    "#Transition Matrix\n",
    "P = pd.crosstab(overall_transistions['section'], overall_transistions['section_next_minute'], normalize=0)\n",
    "P"
   ]
  },
  {
   "cell_type": "code",
   "execution_count": 31,
   "metadata": {},
   "outputs": [
    {
     "data": {
      "text/plain": [
       "section_next_minute\n",
       "checkout    0.103466\n",
       "dairy       0.736750\n",
       "drinks      0.058569\n",
       "fruit       0.049848\n",
       "spices      0.051367\n",
       "Name: dairy, dtype: float64"
      ]
     },
     "execution_count": 31,
     "metadata": {},
     "output_type": "execute_result"
    }
   ],
   "source": [
    "P.loc['dairy']"
   ]
  }
 ],
 "metadata": {
  "interpreter": {
   "hash": "bd6591a392eca1367e66f84bf2a307538250480f562075373405c68ebbb4555d"
  },
  "kernelspec": {
   "display_name": "Python 3.9.7 ('base')",
   "language": "python",
   "name": "python3"
  },
  "language_info": {
   "codemirror_mode": {
    "name": "ipython",
    "version": 3
   },
   "file_extension": ".py",
   "mimetype": "text/x-python",
   "name": "python",
   "nbconvert_exporter": "python",
   "pygments_lexer": "ipython3",
   "version": "3.9.7"
  },
  "orig_nbformat": 4
 },
 "nbformat": 4,
 "nbformat_minor": 2
}
